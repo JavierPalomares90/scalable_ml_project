{
 "cells": [
  {
   "cell_type": "markdown",
   "metadata": {},
   "source": [
    "# Predicting Pitches with Neural Network Model\n",
    "For our project, we'll aim to solve the problem of predicting the next pitch a Major League Baseball Pitcher will throw during an at bat"
   ]
  },
  {
   "cell_type": "code",
   "execution_count": 1,
   "metadata": {},
   "outputs": [],
   "source": [
    "import utils.utils as utils\n",
    "import pandas as pd\n",
    "import numpy as np\n",
    "\n",
    "# Set Pandas option to display all columns [scrollable]\n",
    "pd.set_option('display.max_columns', None)\n"
   ]
  },
  {
   "cell_type": "code",
   "execution_count": 2,
   "metadata": {},
   "outputs": [
    {
     "name": "stderr",
     "output_type": "stream",
     "text": [
      "/Users/porterperry/PycharmProjects/EE380L/ProblemSet2/venv/lib/python3.7/site-packages/numpy/lib/arraysetops.py:569: FutureWarning: elementwise comparison failed; returning scalar instead, but in the future will perform elementwise comparison\n",
      "  mask |= (ar1 == a)\n"
     ]
    }
   ],
   "source": [
    "# Read csv files of saved pitch data from the MLB 2016-2019 seasons\n",
    "pitch_data = pd.read_csv('raw_pitch_data_all_base_v2.csv', index_col=0)\n",
    "                         "
   ]
  },
  {
   "cell_type": "code",
   "execution_count": 3,
   "metadata": {},
   "outputs": [
    {
     "name": "stdout",
     "output_type": "stream",
     "text": [
      "Removed Null/NaN labeled pitch types rows, filtered 33043 of 2906621 rows at 0.011368%\n"
     ]
    }
   ],
   "source": [
    "#\n",
    "# Only keep rows with finite (non-NULL/NaN) label values (p1_pitch_type)\n",
    "#\n",
    "pre_filter_rows = len(pitch_data.index)\n",
    "pitch_data = pitch_data[pd.notnull(pitch_data['p1_pitch_type'])]\n",
    "post_filter_rows = len(pitch_data.index)\n",
    "\n",
    "filter_diff = pre_filter_rows - post_filter_rows\n",
    "filter_pcnt = (filter_diff)/pre_filter_rows\n",
    "\n",
    "print('Removed Null/NaN labeled pitch types rows, filtered %d of %d rows at %f%%' % (filter_diff, pre_filter_rows, filter_pcnt))"
   ]
  },
  {
   "cell_type": "code",
   "execution_count": 4,
   "metadata": {},
   "outputs": [
    {
     "name": "stdout",
     "output_type": "stream",
     "text": [
      "Removed rows w/ unwanted pitch types, filtered 5700 of 2873578 rows at 0.001984%\n"
     ]
    }
   ],
   "source": [
    "#\n",
    "# Drop rows with unwanted pitchtypes (including automatic ball/strikes, pitchouts, etc)\n",
    "#\n",
    "pre_filter_rows = len(pitch_data.index)\n",
    "pitch_data = utils.drop_unwanted_pitches(pitch_data)\n",
    "post_filter_rows = len(pitch_data.index)\n",
    "\n",
    "filter_diff = pre_filter_rows - post_filter_rows\n",
    "filter_pcnt = (filter_diff)/pre_filter_rows\n",
    "\n",
    "print('Removed rows w/ unwanted pitch types, filtered %d of %d rows at %f%%' % (filter_diff, pre_filter_rows, filter_pcnt))"
   ]
  },
  {
   "cell_type": "code",
   "execution_count": 5,
   "metadata": {},
   "outputs": [],
   "source": [
    "#pitch_data.info()"
   ]
  },
  {
   "cell_type": "code",
   "execution_count": 6,
   "metadata": {},
   "outputs": [],
   "source": [
    "#\n",
    "# Drop unwanted dataset columns \n",
    "# \n",
    "\n",
    "# ID columns to drop\n",
    "id_cols_to_drop=['p1_pitch_id','p0_pitch_id','pitch_data_id','team_id','game_id',\n",
    "                 'inning_id','half_inning_id','at_bat_id','gid','b1_id','b1_team_id',\n",
    "                 'team_abbrev']\n",
    "pitch_data = utils.drop_columns_by_list(pitch_data,id_cols_to_drop)\n"
   ]
  },
  {
   "cell_type": "code",
   "execution_count": 7,
   "metadata": {},
   "outputs": [],
   "source": [
    "# Pitch data columns to drop\n",
    "pitch_cols_to_drop=['p0_pitch_seqno','p1_pitch_seqno','p0_inning','result_type',\n",
    "                    'type_confidence','p0_at_bat_o','p0_pitch_des','nasty',\n",
    "                    'x','y','sz_top','sz_bot','pfx_x','pfx_z','px','pz',\n",
    "                    'x0','y0','z0','vx0','vy0','vz0','ax','ay','az','break_y']\n",
    "pitch_data = utils.drop_columns_by_list(pitch_data,pitch_cols_to_drop)\n"
   ]
  },
  {
   "cell_type": "code",
   "execution_count": 8,
   "metadata": {},
   "outputs": [],
   "source": [
    "# Optional pitch data columns to drop\n",
    "opt_pitch_cols_to_drop=['pitch_count_atbat','pitch_count_team','start_speed','spin_dir']\n",
    "pitch_data = utils.drop_columns_by_list(pitch_data,opt_pitch_cols_to_drop)\n"
   ]
  },
  {
   "cell_type": "code",
   "execution_count": 9,
   "metadata": {},
   "outputs": [],
   "source": [
    "#pitch_data.info()"
   ]
  },
  {
   "cell_type": "code",
   "execution_count": 10,
   "metadata": {},
   "outputs": [],
   "source": [
    "#\n",
    "# Create new column of run differential\n",
    "#\n",
    "pitch_data['run_diff'] = pitch_data['runs_pitcher_team'] - pitch_data['runs_batter_team']\n"
   ]
  },
  {
   "cell_type": "code",
   "execution_count": 11,
   "metadata": {},
   "outputs": [
    {
     "data": {
      "text/html": [
       "<div>\n",
       "<style scoped>\n",
       "    .dataframe tbody tr th:only-of-type {\n",
       "        vertical-align: middle;\n",
       "    }\n",
       "\n",
       "    .dataframe tbody tr th {\n",
       "        vertical-align: top;\n",
       "    }\n",
       "\n",
       "    .dataframe thead th {\n",
       "        text-align: right;\n",
       "    }\n",
       "</style>\n",
       "<table border=\"1\" class=\"dataframe\">\n",
       "  <thead>\n",
       "    <tr style=\"text-align: right;\">\n",
       "      <th></th>\n",
       "      <th>season</th>\n",
       "      <th>pitcher_id</th>\n",
       "      <th>era</th>\n",
       "      <th>wins</th>\n",
       "      <th>losses</th>\n",
       "      <th>b1_stand</th>\n",
       "      <th>b1_height</th>\n",
       "      <th>b1_avg</th>\n",
       "      <th>b1_hr</th>\n",
       "      <th>b1_rbi</th>\n",
       "      <th>b1_bat_order</th>\n",
       "      <th>end_speed</th>\n",
       "      <th>break_angle</th>\n",
       "      <th>break_length</th>\n",
       "      <th>zone</th>\n",
       "      <th>spin_rate</th>\n",
       "      <th>outcome</th>\n",
       "      <th>inning</th>\n",
       "      <th>balls</th>\n",
       "      <th>strikes</th>\n",
       "      <th>outs</th>\n",
       "      <th>runs_pitcher_team</th>\n",
       "      <th>runs_batter_team</th>\n",
       "      <th>run_diff</th>\n",
       "    </tr>\n",
       "  </thead>\n",
       "  <tbody>\n",
       "    <tr>\n",
       "      <th>count</th>\n",
       "      <td>2.867878e+06</td>\n",
       "      <td>2.867878e+06</td>\n",
       "      <td>2.867878e+06</td>\n",
       "      <td>2.862540e+06</td>\n",
       "      <td>2.862540e+06</td>\n",
       "      <td>2.867878e+06</td>\n",
       "      <td>2.867878e+06</td>\n",
       "      <td>2.867878e+06</td>\n",
       "      <td>2.867878e+06</td>\n",
       "      <td>2.867878e+06</td>\n",
       "      <td>2.754636e+06</td>\n",
       "      <td>2.780001e+06</td>\n",
       "      <td>2.779966e+06</td>\n",
       "      <td>2.779966e+06</td>\n",
       "      <td>2.060707e+06</td>\n",
       "      <td>2.060707e+06</td>\n",
       "      <td>2.785126e+06</td>\n",
       "      <td>2.867878e+06</td>\n",
       "      <td>2.867878e+06</td>\n",
       "      <td>2.867878e+06</td>\n",
       "      <td>2.867878e+06</td>\n",
       "      <td>2867878.0</td>\n",
       "      <td>2867878.0</td>\n",
       "      <td>2867878.0</td>\n",
       "    </tr>\n",
       "    <tr>\n",
       "      <th>mean</th>\n",
       "      <td>2.017519e+03</td>\n",
       "      <td>5.457868e+05</td>\n",
       "      <td>4.239490e+00</td>\n",
       "      <td>3.123467e+00</td>\n",
       "      <td>2.857613e+00</td>\n",
       "      <td>5.854946e-01</td>\n",
       "      <td>7.310459e+01</td>\n",
       "      <td>2.512505e-01</td>\n",
       "      <td>7.858821e+00</td>\n",
       "      <td>2.687278e+01</td>\n",
       "      <td>4.718980e+00</td>\n",
       "      <td>8.146273e+01</td>\n",
       "      <td>9.894470e+00</td>\n",
       "      <td>6.618559e+00</td>\n",
       "      <td>9.837344e+00</td>\n",
       "      <td>1.735026e+03</td>\n",
       "      <td>6.057841e-01</td>\n",
       "      <td>5.002174e+00</td>\n",
       "      <td>8.861036e-01</td>\n",
       "      <td>8.911770e-01</td>\n",
       "      <td>9.615751e-01</td>\n",
       "      <td>0.0</td>\n",
       "      <td>0.0</td>\n",
       "      <td>0.0</td>\n",
       "    </tr>\n",
       "    <tr>\n",
       "      <th>std</th>\n",
       "      <td>1.125090e+00</td>\n",
       "      <td>7.495690e+04</td>\n",
       "      <td>3.188281e+00</td>\n",
       "      <td>3.440980e+00</td>\n",
       "      <td>2.972095e+00</td>\n",
       "      <td>4.926365e-01</td>\n",
       "      <td>2.170047e+00</td>\n",
       "      <td>7.250525e-02</td>\n",
       "      <td>8.091730e+00</td>\n",
       "      <td>2.360062e+01</td>\n",
       "      <td>2.528324e+00</td>\n",
       "      <td>5.331172e+00</td>\n",
       "      <td>2.291872e+01</td>\n",
       "      <td>1.349071e+02</td>\n",
       "      <td>4.067332e+00</td>\n",
       "      <td>6.887583e+02</td>\n",
       "      <td>4.886817e-01</td>\n",
       "      <td>2.669988e+00</td>\n",
       "      <td>9.679374e-01</td>\n",
       "      <td>8.258254e-01</td>\n",
       "      <td>8.211289e-01</td>\n",
       "      <td>0.0</td>\n",
       "      <td>0.0</td>\n",
       "      <td>0.0</td>\n",
       "    </tr>\n",
       "    <tr>\n",
       "      <th>min</th>\n",
       "      <td>2.016000e+03</td>\n",
       "      <td>1.125260e+05</td>\n",
       "      <td>0.000000e+00</td>\n",
       "      <td>0.000000e+00</td>\n",
       "      <td>0.000000e+00</td>\n",
       "      <td>0.000000e+00</td>\n",
       "      <td>6.600000e+01</td>\n",
       "      <td>0.000000e+00</td>\n",
       "      <td>0.000000e+00</td>\n",
       "      <td>0.000000e+00</td>\n",
       "      <td>0.000000e+00</td>\n",
       "      <td>3.240000e+01</td>\n",
       "      <td>-9.000000e+01</td>\n",
       "      <td>1.000000e-01</td>\n",
       "      <td>1.000000e+00</td>\n",
       "      <td>2.325000e+00</td>\n",
       "      <td>0.000000e+00</td>\n",
       "      <td>1.000000e+00</td>\n",
       "      <td>0.000000e+00</td>\n",
       "      <td>0.000000e+00</td>\n",
       "      <td>0.000000e+00</td>\n",
       "      <td>0.0</td>\n",
       "      <td>0.0</td>\n",
       "      <td>0.0</td>\n",
       "    </tr>\n",
       "    <tr>\n",
       "      <th>25%</th>\n",
       "      <td>2.017000e+03</td>\n",
       "      <td>5.006100e+05</td>\n",
       "      <td>2.970000e+00</td>\n",
       "      <td>1.000000e+00</td>\n",
       "      <td>0.000000e+00</td>\n",
       "      <td>0.000000e+00</td>\n",
       "      <td>7.200000e+01</td>\n",
       "      <td>2.270000e-01</td>\n",
       "      <td>2.000000e+00</td>\n",
       "      <td>8.000000e+00</td>\n",
       "      <td>3.000000e+00</td>\n",
       "      <td>7.800000e+01</td>\n",
       "      <td>-6.500000e+00</td>\n",
       "      <td>4.300000e+00</td>\n",
       "      <td>6.000000e+00</td>\n",
       "      <td>1.234178e+03</td>\n",
       "      <td>0.000000e+00</td>\n",
       "      <td>3.000000e+00</td>\n",
       "      <td>0.000000e+00</td>\n",
       "      <td>0.000000e+00</td>\n",
       "      <td>0.000000e+00</td>\n",
       "      <td>0.0</td>\n",
       "      <td>0.0</td>\n",
       "      <td>0.0</td>\n",
       "    </tr>\n",
       "    <tr>\n",
       "      <th>50%</th>\n",
       "      <td>2.018000e+03</td>\n",
       "      <td>5.478740e+05</td>\n",
       "      <td>4.010000e+00</td>\n",
       "      <td>2.000000e+00</td>\n",
       "      <td>2.000000e+00</td>\n",
       "      <td>1.000000e+00</td>\n",
       "      <td>7.300000e+01</td>\n",
       "      <td>2.580000e-01</td>\n",
       "      <td>5.000000e+00</td>\n",
       "      <td>2.100000e+01</td>\n",
       "      <td>5.000000e+00</td>\n",
       "      <td>8.260000e+01</td>\n",
       "      <td>1.220000e+01</td>\n",
       "      <td>6.000000e+00</td>\n",
       "      <td>1.100000e+01</td>\n",
       "      <td>1.877886e+03</td>\n",
       "      <td>1.000000e+00</td>\n",
       "      <td>5.000000e+00</td>\n",
       "      <td>1.000000e+00</td>\n",
       "      <td>1.000000e+00</td>\n",
       "      <td>1.000000e+00</td>\n",
       "      <td>0.0</td>\n",
       "      <td>0.0</td>\n",
       "      <td>0.0</td>\n",
       "    </tr>\n",
       "    <tr>\n",
       "      <th>75%</th>\n",
       "      <td>2.019000e+03</td>\n",
       "      <td>6.053090e+05</td>\n",
       "      <td>4.950000e+00</td>\n",
       "      <td>5.000000e+00</td>\n",
       "      <td>4.000000e+00</td>\n",
       "      <td>1.000000e+00</td>\n",
       "      <td>7.500000e+01</td>\n",
       "      <td>2.870000e-01</td>\n",
       "      <td>1.200000e+01</td>\n",
       "      <td>4.100000e+01</td>\n",
       "      <td>7.000000e+00</td>\n",
       "      <td>8.550000e+01</td>\n",
       "      <td>2.880000e+01</td>\n",
       "      <td>8.200000e+00</td>\n",
       "      <td>1.300000e+01</td>\n",
       "      <td>2.256240e+03</td>\n",
       "      <td>1.000000e+00</td>\n",
       "      <td>7.000000e+00</td>\n",
       "      <td>2.000000e+00</td>\n",
       "      <td>2.000000e+00</td>\n",
       "      <td>2.000000e+00</td>\n",
       "      <td>0.0</td>\n",
       "      <td>0.0</td>\n",
       "      <td>0.0</td>\n",
       "    </tr>\n",
       "    <tr>\n",
       "      <th>max</th>\n",
       "      <td>2.019000e+03</td>\n",
       "      <td>6.819150e+05</td>\n",
       "      <td>1.620000e+02</td>\n",
       "      <td>2.200000e+01</td>\n",
       "      <td>1.900000e+01</td>\n",
       "      <td>1.000000e+00</td>\n",
       "      <td>8.200000e+01</td>\n",
       "      <td>1.000000e+00</td>\n",
       "      <td>5.900000e+01</td>\n",
       "      <td>1.330000e+02</td>\n",
       "      <td>9.000000e+00</td>\n",
       "      <td>9.690000e+01</td>\n",
       "      <td>2.694000e+02</td>\n",
       "      <td>2.248893e+05</td>\n",
       "      <td>1.400000e+01</td>\n",
       "      <td>6.539259e+03</td>\n",
       "      <td>1.000000e+00</td>\n",
       "      <td>1.900000e+01</td>\n",
       "      <td>4.000000e+00</td>\n",
       "      <td>2.000000e+00</td>\n",
       "      <td>3.000000e+00</td>\n",
       "      <td>0.0</td>\n",
       "      <td>0.0</td>\n",
       "      <td>0.0</td>\n",
       "    </tr>\n",
       "  </tbody>\n",
       "</table>\n",
       "</div>"
      ],
      "text/plain": [
       "             season    pitcher_id           era          wins        losses  \\\n",
       "count  2.867878e+06  2.867878e+06  2.867878e+06  2.862540e+06  2.862540e+06   \n",
       "mean   2.017519e+03  5.457868e+05  4.239490e+00  3.123467e+00  2.857613e+00   \n",
       "std    1.125090e+00  7.495690e+04  3.188281e+00  3.440980e+00  2.972095e+00   \n",
       "min    2.016000e+03  1.125260e+05  0.000000e+00  0.000000e+00  0.000000e+00   \n",
       "25%    2.017000e+03  5.006100e+05  2.970000e+00  1.000000e+00  0.000000e+00   \n",
       "50%    2.018000e+03  5.478740e+05  4.010000e+00  2.000000e+00  2.000000e+00   \n",
       "75%    2.019000e+03  6.053090e+05  4.950000e+00  5.000000e+00  4.000000e+00   \n",
       "max    2.019000e+03  6.819150e+05  1.620000e+02  2.200000e+01  1.900000e+01   \n",
       "\n",
       "           b1_stand     b1_height        b1_avg         b1_hr        b1_rbi  \\\n",
       "count  2.867878e+06  2.867878e+06  2.867878e+06  2.867878e+06  2.867878e+06   \n",
       "mean   5.854946e-01  7.310459e+01  2.512505e-01  7.858821e+00  2.687278e+01   \n",
       "std    4.926365e-01  2.170047e+00  7.250525e-02  8.091730e+00  2.360062e+01   \n",
       "min    0.000000e+00  6.600000e+01  0.000000e+00  0.000000e+00  0.000000e+00   \n",
       "25%    0.000000e+00  7.200000e+01  2.270000e-01  2.000000e+00  8.000000e+00   \n",
       "50%    1.000000e+00  7.300000e+01  2.580000e-01  5.000000e+00  2.100000e+01   \n",
       "75%    1.000000e+00  7.500000e+01  2.870000e-01  1.200000e+01  4.100000e+01   \n",
       "max    1.000000e+00  8.200000e+01  1.000000e+00  5.900000e+01  1.330000e+02   \n",
       "\n",
       "       b1_bat_order     end_speed   break_angle  break_length          zone  \\\n",
       "count  2.754636e+06  2.780001e+06  2.779966e+06  2.779966e+06  2.060707e+06   \n",
       "mean   4.718980e+00  8.146273e+01  9.894470e+00  6.618559e+00  9.837344e+00   \n",
       "std    2.528324e+00  5.331172e+00  2.291872e+01  1.349071e+02  4.067332e+00   \n",
       "min    0.000000e+00  3.240000e+01 -9.000000e+01  1.000000e-01  1.000000e+00   \n",
       "25%    3.000000e+00  7.800000e+01 -6.500000e+00  4.300000e+00  6.000000e+00   \n",
       "50%    5.000000e+00  8.260000e+01  1.220000e+01  6.000000e+00  1.100000e+01   \n",
       "75%    7.000000e+00  8.550000e+01  2.880000e+01  8.200000e+00  1.300000e+01   \n",
       "max    9.000000e+00  9.690000e+01  2.694000e+02  2.248893e+05  1.400000e+01   \n",
       "\n",
       "          spin_rate       outcome        inning         balls       strikes  \\\n",
       "count  2.060707e+06  2.785126e+06  2.867878e+06  2.867878e+06  2.867878e+06   \n",
       "mean   1.735026e+03  6.057841e-01  5.002174e+00  8.861036e-01  8.911770e-01   \n",
       "std    6.887583e+02  4.886817e-01  2.669988e+00  9.679374e-01  8.258254e-01   \n",
       "min    2.325000e+00  0.000000e+00  1.000000e+00  0.000000e+00  0.000000e+00   \n",
       "25%    1.234178e+03  0.000000e+00  3.000000e+00  0.000000e+00  0.000000e+00   \n",
       "50%    1.877886e+03  1.000000e+00  5.000000e+00  1.000000e+00  1.000000e+00   \n",
       "75%    2.256240e+03  1.000000e+00  7.000000e+00  2.000000e+00  2.000000e+00   \n",
       "max    6.539259e+03  1.000000e+00  1.900000e+01  4.000000e+00  2.000000e+00   \n",
       "\n",
       "               outs  runs_pitcher_team  runs_batter_team   run_diff  \n",
       "count  2.867878e+06          2867878.0         2867878.0  2867878.0  \n",
       "mean   9.615751e-01                0.0               0.0        0.0  \n",
       "std    8.211289e-01                0.0               0.0        0.0  \n",
       "min    0.000000e+00                0.0               0.0        0.0  \n",
       "25%    0.000000e+00                0.0               0.0        0.0  \n",
       "50%    1.000000e+00                0.0               0.0        0.0  \n",
       "75%    2.000000e+00                0.0               0.0        0.0  \n",
       "max    3.000000e+00                0.0               0.0        0.0  "
      ]
     },
     "execution_count": 11,
     "metadata": {},
     "output_type": "execute_result"
    }
   ],
   "source": [
    "pitch_data.describe()"
   ]
  },
  {
   "cell_type": "code",
   "execution_count": 12,
   "metadata": {},
   "outputs": [],
   "source": [
    "#\n",
    "# Drop runs columns (pitcher/batter)\n",
    "cols_to_drop=['runs_pitcher_team','runs_batter_team']\n",
    "pitch_data = utils.drop_columns_by_list(pitch_data, cols_to_drop)\n"
   ]
  },
  {
   "cell_type": "code",
   "execution_count": 13,
   "metadata": {},
   "outputs": [
    {
     "name": "stdout",
     "output_type": "stream",
     "text": [
      "<class 'pandas.core.frame.DataFrame'>\n",
      "Int64Index: 2867878 entries, 0 to 2906620\n",
      "Data columns (total 31 columns):\n",
      "season                 int64\n",
      "pitcher_id             int64\n",
      "era                    float64\n",
      "wins                   float64\n",
      "losses                 float64\n",
      "throws                 object\n",
      "b1_stand               int64\n",
      "b1_height              int64\n",
      "b1_bats                object\n",
      "b1_avg                 float64\n",
      "b1_hr                  int64\n",
      "b1_rbi                 int64\n",
      "b1_bat_order           float64\n",
      "b1_game_position       object\n",
      "result_type_simple     object\n",
      "end_speed              float64\n",
      "break_angle            float64\n",
      "break_length           float64\n",
      "p0_pitch_type          object\n",
      "zone                   float64\n",
      "spin_rate              float64\n",
      "outcome                float64\n",
      "inning                 int64\n",
      "balls                  int64\n",
      "strikes                int64\n",
      "outs                   int64\n",
      "is_runner_on_first     bool\n",
      "is_runner_on_second    bool\n",
      "is_runner_on_third     bool\n",
      "p1_pitch_type          object\n",
      "run_diff               int64\n",
      "dtypes: bool(3), float64(11), int64(11), object(6)\n",
      "memory usage: 642.7+ MB\n"
     ]
    }
   ],
   "source": [
    "pitch_data.info()"
   ]
  },
  {
   "cell_type": "code",
   "execution_count": 14,
   "metadata": {},
   "outputs": [],
   "source": [
    "# Set intended data types of the remaining columns\n",
    "pitch_data = utils.set_dtypes(pitch_data)\n"
   ]
  },
  {
   "cell_type": "code",
   "execution_count": 15,
   "metadata": {},
   "outputs": [
    {
     "name": "stdout",
     "output_type": "stream",
     "text": [
      "<class 'pandas.core.frame.DataFrame'>\n",
      "Int64Index: 2867878 entries, 0 to 2906620\n",
      "Data columns (total 31 columns):\n",
      "season                 int64\n",
      "pitcher_id             object\n",
      "era                    float64\n",
      "wins                   float64\n",
      "losses                 float64\n",
      "throws                 object\n",
      "b1_stand               int64\n",
      "b1_height              int64\n",
      "b1_bats                object\n",
      "b1_avg                 float64\n",
      "b1_hr                  int64\n",
      "b1_rbi                 int64\n",
      "b1_bat_order           float64\n",
      "b1_game_position       object\n",
      "result_type_simple     object\n",
      "end_speed              float64\n",
      "break_angle            float64\n",
      "break_length           float64\n",
      "p0_pitch_type          object\n",
      "zone                   float64\n",
      "spin_rate              float64\n",
      "outcome                float64\n",
      "inning                 object\n",
      "balls                  int64\n",
      "strikes                int64\n",
      "outs                   int64\n",
      "is_runner_on_first     int64\n",
      "is_runner_on_second    int64\n",
      "is_runner_on_third     int64\n",
      "p1_pitch_type          object\n",
      "run_diff               int64\n",
      "dtypes: float64(11), int64(12), object(8)\n",
      "memory usage: 700.2+ MB\n"
     ]
    }
   ],
   "source": [
    "pitch_data.info()"
   ]
  },
  {
   "cell_type": "code",
   "execution_count": 16,
   "metadata": {},
   "outputs": [
    {
     "name": "stdout",
     "output_type": "stream",
     "text": [
      "Current number of dataframe Null/NaN values: 2084713\n"
     ]
    }
   ],
   "source": [
    "#\n",
    "# Replace Nulls/NaN values that are left in the remaining object columns\n",
    "#\n",
    "pitch_data['p0_pitch_type'] = pitch_data['p0_pitch_type'].fillna('NP') # 'NP' is for No Pitch\n",
    "\n",
    "pitch_data['result_type_simple'] = pitch_data['result_type_simple'].fillna('X') # 'X' is for in play \n",
    "\n",
    "pitch_data['b1_game_position'] = pitch_data['b1_game_position'].fillna('Unknown')\n",
    "\n",
    "pitch_data['b1_bats'] = pitch_data['b1_bats'].fillna('R') # 'R' is for right handed (Other values are L or S)\n",
    "\n",
    "pitch_data['throws'] = pitch_data['throws'].fillna('R') # 'R' is for right handed (Other value is L)\n",
    "\n",
    "print('Current number of dataframe Null/NaN values: %d' % (pitch_data.isnull().sum().sum()))"
   ]
  },
  {
   "cell_type": "code",
   "execution_count": 17,
   "metadata": {},
   "outputs": [
    {
     "name": "stdout",
     "output_type": "stream",
     "text": [
      "Current number of dataframe Null/NaN values: 0\n"
     ]
    }
   ],
   "source": [
    "#\n",
    "# Fill the rest of Null/NaN values with zero in numeric columns\n",
    "#\n",
    "pitch_data = pitch_data.fillna(0)\n",
    "\n",
    "print('Current number of dataframe Null/NaN values: %d' % (pitch_data.isnull().sum().sum()))\n"
   ]
  },
  {
   "cell_type": "code",
   "execution_count": 18,
   "metadata": {},
   "outputs": [
    {
     "name": "stdout",
     "output_type": "stream",
     "text": [
      "Shape of training data set is (2125821, 31)\n",
      "Shape of test data set is (742057, 31)\n"
     ]
    }
   ],
   "source": [
    "#\n",
    "# Split data into train and test sets\n",
    "#\n",
    "pd_train = pitch_data[pitch_data['season']!=2019].copy()\n",
    "pd_test = pitch_data[pitch_data['season']==2019].copy()\n",
    "\n",
    "print('Shape of training data set is {}'.format(pd_train.shape))\n",
    "print('Shape of test data set is {}'.format(pd_test.shape))\n"
   ]
  },
  {
   "cell_type": "code",
   "execution_count": 19,
   "metadata": {},
   "outputs": [
    {
     "data": {
      "text/plain": [
       "434378    10613\n",
       "453286    10105\n",
       "519144     9762\n",
       "Name: pitcher_id, dtype: int64"
      ]
     },
     "execution_count": 19,
     "metadata": {},
     "output_type": "execute_result"
    }
   ],
   "source": [
    "# Get the top 3 pitcher ids with the most training pitch data available\n",
    "pd_train['pitcher_id'].value_counts().nlargest(n=3)\n"
   ]
  },
  {
   "cell_type": "code",
   "execution_count": 20,
   "metadata": {},
   "outputs": [
    {
     "name": "stdout",
     "output_type": "stream",
     "text": [
      "Verlander pitch data rows: train=10613, test=3256.\n",
      "Scherzer pitch data rows: train=10105, test=2657.\n",
      "Porcello pitch data rows: train=9762, test=2960.\n"
     ]
    }
   ],
   "source": [
    "# Top pitchers of available training pitch data are\n",
    "#  1) Justin Verlander (id=434378)\n",
    "#  2) Max Scherzer (id=453286)\n",
    "#  3) Rick Porcello (id=519144)\n",
    "\n",
    "pd_train['pitcher_id'] = pd_train['pitcher_id'].astype(dtype='int64')\n",
    "\n",
    "pd_train_verlander = pd_train[pd_train['pitcher_id']==434378].copy()\n",
    "pd_test_verlander = pd_test[pd_test['pitcher_id']==434378].copy()\n",
    "print('Verlander pitch data rows: train=%d, test=%d.' % (len(pd_train_verlander.index), len(pd_test_verlander.index)))\n",
    "\n",
    "pd_train_scherzer = pd_train[pd_train['pitcher_id']==453286].copy()\n",
    "pd_test_scherzer = pd_test[pd_test['pitcher_id']==453286].copy()\n",
    "print('Scherzer pitch data rows: train=%d, test=%d.' % (len(pd_train_scherzer.index), len(pd_test_scherzer.index)))\n",
    "\n",
    "pd_train_porcello = pd_train[pd_train['pitcher_id']==519144].copy()\n",
    "pd_test_porcello = pd_test[pd_test['pitcher_id']==519144].copy()\n",
    "print('Porcello pitch data rows: train=%d, test=%d.' % (len(pd_train_porcello.index), len(pd_test_porcello.index)))\n"
   ]
  },
  {
   "cell_type": "code",
   "execution_count": 21,
   "metadata": {},
   "outputs": [],
   "source": [
    "#\n",
    "# Lastly drop season and pitch_id columns\n",
    "#\n",
    "cols_to_drop=['season','pitcher_id']\n",
    "\n",
    "pd_test = utils.drop_columns_by_list(pd_test, cols_to_drop)\n",
    "pd_train = utils.drop_columns_by_list(pd_train, cols_to_drop)\n",
    "\n",
    "pd_test_verlander = utils.drop_columns_by_list(pd_test_verlander, cols_to_drop)\n",
    "pd_train_verlander = utils.drop_columns_by_list(pd_train_verlander, cols_to_drop)\n",
    "\n",
    "pd_test_scherzer = utils.drop_columns_by_list(pd_test_scherzer, cols_to_drop)\n",
    "pd_train_scherzer = utils.drop_columns_by_list(pd_train_scherzer, cols_to_drop)\n",
    "\n",
    "pd_test_porcello = utils.drop_columns_by_list(pd_test_porcello, cols_to_drop)\n",
    "pd_train_porcello = utils.drop_columns_by_list(pd_train_porcello, cols_to_drop)\n"
   ]
  },
  {
   "cell_type": "markdown",
   "metadata": {},
   "source": [
    "## Part2: Train an Neural Network multiclassifier"
   ]
  },
  {
   "cell_type": "code",
   "execution_count": null,
   "metadata": {},
   "outputs": [],
   "source": []
  },
  {
   "cell_type": "code",
   "execution_count": null,
   "metadata": {},
   "outputs": [],
   "source": []
  },
  {
   "cell_type": "code",
   "execution_count": null,
   "metadata": {},
   "outputs": [],
   "source": []
  }
 ],
 "metadata": {
  "kernelspec": {
   "display_name": "Python 3",
   "language": "python",
   "name": "python3"
  },
  "language_info": {
   "codemirror_mode": {
    "name": "ipython",
    "version": 3
   },
   "file_extension": ".py",
   "mimetype": "text/x-python",
   "name": "python",
   "nbconvert_exporter": "python",
   "pygments_lexer": "ipython3",
   "version": "3.7.2"
  }
 },
 "nbformat": 4,
 "nbformat_minor": 2
}
