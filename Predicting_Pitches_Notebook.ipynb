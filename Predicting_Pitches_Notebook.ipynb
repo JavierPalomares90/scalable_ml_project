{
 "cells": [
  {
   "cell_type": "markdown",
   "metadata": {},
   "source": [
    "# Predicting Pitches\n",
    "For our project, we'll aim to solve the problem of predicting the next pitch a Major League Baseball Pitcher will throw during an at bat"
   ]
  },
  {
   "cell_type": "code",
   "execution_count": 1,
   "metadata": {},
   "outputs": [],
   "source": [
    "import utils.utils as utils\n",
    "import pandas as pd"
   ]
  },
  {
   "cell_type": "markdown",
   "metadata": {},
   "source": [
    "## Part 1: Preprocessing the data"
   ]
  },
  {
   "cell_type": "code",
   "execution_count": 2,
   "metadata": {},
   "outputs": [
    {
     "data": {
      "text/html": [
       "<div>\n",
       "<style scoped>\n",
       "    .dataframe tbody tr th:only-of-type {\n",
       "        vertical-align: middle;\n",
       "    }\n",
       "\n",
       "    .dataframe tbody tr th {\n",
       "        vertical-align: top;\n",
       "    }\n",
       "\n",
       "    .dataframe thead th {\n",
       "        text-align: right;\n",
       "    }\n",
       "</style>\n",
       "<table border=\"1\" class=\"dataframe\">\n",
       "  <thead>\n",
       "    <tr style=\"text-align: right;\">\n",
       "      <th></th>\n",
       "      <th>pitch_data_id</th>\n",
       "      <th>season</th>\n",
       "      <th>pitcher_id</th>\n",
       "      <th>team_id</th>\n",
       "      <th>team_abbrev</th>\n",
       "      <th>era</th>\n",
       "      <th>wins</th>\n",
       "      <th>losses</th>\n",
       "      <th>throws</th>\n",
       "      <th>b1_id</th>\n",
       "      <th>...</th>\n",
       "      <th>runs_pitcher_team</th>\n",
       "      <th>runs_batter_team</th>\n",
       "      <th>game_id</th>\n",
       "      <th>inning_id</th>\n",
       "      <th>half_inning_id</th>\n",
       "      <th>at_bat_id</th>\n",
       "      <th>gid</th>\n",
       "      <th>p1_pitch_type</th>\n",
       "      <th>p0_at_bat_o</th>\n",
       "      <th>p0_pitch_des</th>\n",
       "    </tr>\n",
       "  </thead>\n",
       "  <tbody>\n",
       "    <tr>\n",
       "      <td>0</td>\n",
       "      <td>344084</td>\n",
       "      <td>2018</td>\n",
       "      <td>642152</td>\n",
       "      <td>133</td>\n",
       "      <td>OAK</td>\n",
       "      <td>1.41</td>\n",
       "      <td>7.0</td>\n",
       "      <td>1.0</td>\n",
       "      <td>R</td>\n",
       "      <td>594828</td>\n",
       "      <td>...</td>\n",
       "      <td>0</td>\n",
       "      <td>0</td>\n",
       "      <td>ce624c44-dd62-4d1a-9b7d-5a43999701f4</td>\n",
       "      <td>a6bfde1c-43c2-44fe-b4f2-fea67da79c8c</td>\n",
       "      <td>ee07b373-da76-43a2-b05e-31a23d6fd8a0</td>\n",
       "      <td>5d179556-61ce-44e8-9436-ce7a5c7b8b15</td>\n",
       "      <td>gid_2018_07_09_oakmlb_houmlb_1</td>\n",
       "      <td>FF</td>\n",
       "      <td>0</td>\n",
       "      <td></td>\n",
       "    </tr>\n",
       "    <tr>\n",
       "      <td>1</td>\n",
       "      <td>344085</td>\n",
       "      <td>2018</td>\n",
       "      <td>642152</td>\n",
       "      <td>133</td>\n",
       "      <td>OAK</td>\n",
       "      <td>1.41</td>\n",
       "      <td>7.0</td>\n",
       "      <td>1.0</td>\n",
       "      <td>R</td>\n",
       "      <td>594828</td>\n",
       "      <td>...</td>\n",
       "      <td>0</td>\n",
       "      <td>0</td>\n",
       "      <td>ce624c44-dd62-4d1a-9b7d-5a43999701f4</td>\n",
       "      <td>a6bfde1c-43c2-44fe-b4f2-fea67da79c8c</td>\n",
       "      <td>ee07b373-da76-43a2-b05e-31a23d6fd8a0</td>\n",
       "      <td>5d179556-61ce-44e8-9436-ce7a5c7b8b15</td>\n",
       "      <td>gid_2018_07_09_oakmlb_houmlb_1</td>\n",
       "      <td>FT</td>\n",
       "      <td>0</td>\n",
       "      <td></td>\n",
       "    </tr>\n",
       "    <tr>\n",
       "      <td>2</td>\n",
       "      <td>344086</td>\n",
       "      <td>2018</td>\n",
       "      <td>642152</td>\n",
       "      <td>133</td>\n",
       "      <td>OAK</td>\n",
       "      <td>1.41</td>\n",
       "      <td>7.0</td>\n",
       "      <td>1.0</td>\n",
       "      <td>R</td>\n",
       "      <td>594828</td>\n",
       "      <td>...</td>\n",
       "      <td>0</td>\n",
       "      <td>0</td>\n",
       "      <td>ce624c44-dd62-4d1a-9b7d-5a43999701f4</td>\n",
       "      <td>a6bfde1c-43c2-44fe-b4f2-fea67da79c8c</td>\n",
       "      <td>ee07b373-da76-43a2-b05e-31a23d6fd8a0</td>\n",
       "      <td>5d179556-61ce-44e8-9436-ce7a5c7b8b15</td>\n",
       "      <td>gid_2018_07_09_oakmlb_houmlb_1</td>\n",
       "      <td>FC</td>\n",
       "      <td>0</td>\n",
       "      <td></td>\n",
       "    </tr>\n",
       "    <tr>\n",
       "      <td>3</td>\n",
       "      <td>344087</td>\n",
       "      <td>2018</td>\n",
       "      <td>457918</td>\n",
       "      <td>147</td>\n",
       "      <td>NYY</td>\n",
       "      <td>3.84</td>\n",
       "      <td>14.0</td>\n",
       "      <td>6.0</td>\n",
       "      <td>L</td>\n",
       "      <td>641820</td>\n",
       "      <td>...</td>\n",
       "      <td>0</td>\n",
       "      <td>0</td>\n",
       "      <td>ec37c36d-2b98-4832-b71c-fd367ef9d4a9</td>\n",
       "      <td>82374928-e870-439e-864a-655395161508</td>\n",
       "      <td>8a2b0aeb-2218-4a4d-9d80-4341f61c1173</td>\n",
       "      <td>5d17ae4f-0501-4b46-a4b2-89bc23ae9714</td>\n",
       "      <td>gid_2018_08_25_nyamlb_balmlb_1</td>\n",
       "      <td>FF</td>\n",
       "      <td>0</td>\n",
       "      <td></td>\n",
       "    </tr>\n",
       "    <tr>\n",
       "      <td>4</td>\n",
       "      <td>344088</td>\n",
       "      <td>2018</td>\n",
       "      <td>457918</td>\n",
       "      <td>147</td>\n",
       "      <td>NYY</td>\n",
       "      <td>3.84</td>\n",
       "      <td>14.0</td>\n",
       "      <td>6.0</td>\n",
       "      <td>L</td>\n",
       "      <td>641820</td>\n",
       "      <td>...</td>\n",
       "      <td>0</td>\n",
       "      <td>0</td>\n",
       "      <td>ec37c36d-2b98-4832-b71c-fd367ef9d4a9</td>\n",
       "      <td>82374928-e870-439e-864a-655395161508</td>\n",
       "      <td>8a2b0aeb-2218-4a4d-9d80-4341f61c1173</td>\n",
       "      <td>5d17ae4f-0501-4b46-a4b2-89bc23ae9714</td>\n",
       "      <td>gid_2018_08_25_nyamlb_balmlb_1</td>\n",
       "      <td>CH</td>\n",
       "      <td>0</td>\n",
       "      <td></td>\n",
       "    </tr>\n",
       "  </tbody>\n",
       "</table>\n",
       "<p>5 rows × 74 columns</p>\n",
       "</div>"
      ],
      "text/plain": [
       "   pitch_data_id  season  pitcher_id team_id team_abbrev   era  wins  losses  \\\n",
       "0         344084    2018      642152     133         OAK  1.41   7.0     1.0   \n",
       "1         344085    2018      642152     133         OAK  1.41   7.0     1.0   \n",
       "2         344086    2018      642152     133         OAK  1.41   7.0     1.0   \n",
       "3         344087    2018      457918     147         NYY  3.84  14.0     6.0   \n",
       "4         344088    2018      457918     147         NYY  3.84  14.0     6.0   \n",
       "\n",
       "  throws   b1_id  ... runs_pitcher_team runs_batter_team  \\\n",
       "0      R  594828  ...                 0                0   \n",
       "1      R  594828  ...                 0                0   \n",
       "2      R  594828  ...                 0                0   \n",
       "3      L  641820  ...                 0                0   \n",
       "4      L  641820  ...                 0                0   \n",
       "\n",
       "                                game_id                             inning_id  \\\n",
       "0  ce624c44-dd62-4d1a-9b7d-5a43999701f4  a6bfde1c-43c2-44fe-b4f2-fea67da79c8c   \n",
       "1  ce624c44-dd62-4d1a-9b7d-5a43999701f4  a6bfde1c-43c2-44fe-b4f2-fea67da79c8c   \n",
       "2  ce624c44-dd62-4d1a-9b7d-5a43999701f4  a6bfde1c-43c2-44fe-b4f2-fea67da79c8c   \n",
       "3  ec37c36d-2b98-4832-b71c-fd367ef9d4a9  82374928-e870-439e-864a-655395161508   \n",
       "4  ec37c36d-2b98-4832-b71c-fd367ef9d4a9  82374928-e870-439e-864a-655395161508   \n",
       "\n",
       "                         half_inning_id                             at_bat_id  \\\n",
       "0  ee07b373-da76-43a2-b05e-31a23d6fd8a0  5d179556-61ce-44e8-9436-ce7a5c7b8b15   \n",
       "1  ee07b373-da76-43a2-b05e-31a23d6fd8a0  5d179556-61ce-44e8-9436-ce7a5c7b8b15   \n",
       "2  ee07b373-da76-43a2-b05e-31a23d6fd8a0  5d179556-61ce-44e8-9436-ce7a5c7b8b15   \n",
       "3  8a2b0aeb-2218-4a4d-9d80-4341f61c1173  5d17ae4f-0501-4b46-a4b2-89bc23ae9714   \n",
       "4  8a2b0aeb-2218-4a4d-9d80-4341f61c1173  5d17ae4f-0501-4b46-a4b2-89bc23ae9714   \n",
       "\n",
       "                              gid  p1_pitch_type p0_at_bat_o p0_pitch_des  \n",
       "0  gid_2018_07_09_oakmlb_houmlb_1             FF           0               \n",
       "1  gid_2018_07_09_oakmlb_houmlb_1             FT           0               \n",
       "2  gid_2018_07_09_oakmlb_houmlb_1             FC           0               \n",
       "3  gid_2018_08_25_nyamlb_balmlb_1             FF           0               \n",
       "4  gid_2018_08_25_nyamlb_balmlb_1             CH           0               \n",
       "\n",
       "[5 rows x 74 columns]"
      ]
     },
     "execution_count": 2,
     "metadata": {},
     "output_type": "execute_result"
    }
   ],
   "source": [
    "# get the data\n",
    "pitch_data = utils.get_pitch_data()\n",
    "pitch_data.head()"
   ]
  },
  {
   "cell_type": "code",
   "execution_count": 3,
   "metadata": {},
   "outputs": [
    {
     "name": "stdout",
     "output_type": "stream",
     "text": [
      "<class 'pandas.core.frame.DataFrame'>\n",
      "RangeIndex: 10000 entries, 0 to 9999\n",
      "Data columns (total 74 columns):\n",
      "pitch_data_id          10000 non-null int64\n",
      "season                 10000 non-null int64\n",
      "pitcher_id             10000 non-null int64\n",
      "team_id                10000 non-null object\n",
      "team_abbrev            10000 non-null object\n",
      "era                    10000 non-null float64\n",
      "wins                   9962 non-null float64\n",
      "losses                 9962 non-null float64\n",
      "throws                 10000 non-null object\n",
      "b1_id                  10000 non-null int64\n",
      "b1_team_id             10000 non-null object\n",
      "b1_stand               10000 non-null object\n",
      "b1_height              10000 non-null int64\n",
      "b1_bats                10000 non-null object\n",
      "b1_avg                 10000 non-null float64\n",
      "b1_hr                  10000 non-null int64\n",
      "b1_rbi                 10000 non-null int64\n",
      "b1_bat_order           9371 non-null float64\n",
      "b1_game_position       9371 non-null object\n",
      "p1_pitch_id            10000 non-null object\n",
      "p0_pitch_id            9718 non-null object\n",
      "p1_pitch_seqno         10000 non-null int64\n",
      "p0_pitch_seqno         9718 non-null float64\n",
      "p0_inning              9718 non-null float64\n",
      "result_type            9718 non-null object\n",
      "result_type_simple     9718 non-null object\n",
      "x                      9716 non-null float64\n",
      "y                      9716 non-null float64\n",
      "start_speed            9642 non-null float64\n",
      "end_speed              9642 non-null float64\n",
      "sz_top                 9710 non-null float64\n",
      "sz_bot                 9710 non-null float64\n",
      "pfx_x                  9642 non-null float64\n",
      "pfx_z                  9642 non-null float64\n",
      "px                     9642 non-null float64\n",
      "pz                     9642 non-null float64\n",
      "x0                     9642 non-null float64\n",
      "y0                     9642 non-null float64\n",
      "z0                     9642 non-null float64\n",
      "vx0                    9642 non-null float64\n",
      "vy0                    9642 non-null float64\n",
      "vz0                    9642 non-null float64\n",
      "ax                     9642 non-null float64\n",
      "ay                     9642 non-null float64\n",
      "az                     9642 non-null float64\n",
      "break_y                9642 non-null float64\n",
      "break_angle            9642 non-null float64\n",
      "break_length           9642 non-null float64\n",
      "p0_pitch_type          9642 non-null object\n",
      "type_confidence        9386 non-null float64\n",
      "zone                   9386 non-null float64\n",
      "nasty                  9386 non-null float64\n",
      "spin_dir               9386 non-null float64\n",
      "spin_rate              9386 non-null float64\n",
      "outcome                9718 non-null float64\n",
      "inning                 10000 non-null int64\n",
      "pitch_count_atbat      10000 non-null int64\n",
      "pitch_count_team       10000 non-null int64\n",
      "balls                  10000 non-null int64\n",
      "strikes                10000 non-null int64\n",
      "outs                   10000 non-null int64\n",
      "is_runner_on_first     10000 non-null bool\n",
      "is_runner_on_second    10000 non-null bool\n",
      "is_runner_on_third     10000 non-null bool\n",
      "runs_pitcher_team      10000 non-null int64\n",
      "runs_batter_team       10000 non-null int64\n",
      "game_id                10000 non-null object\n",
      "inning_id              10000 non-null object\n",
      "half_inning_id         10000 non-null object\n",
      "at_bat_id              10000 non-null object\n",
      "gid                    10000 non-null object\n",
      "p1_pitch_type          9921 non-null object\n",
      "p0_at_bat_o            10000 non-null int64\n",
      "p0_pitch_des           10000 non-null object\n",
      "dtypes: bool(3), float64(35), int64(17), object(19)\n",
      "memory usage: 5.4+ MB\n"
     ]
    }
   ],
   "source": [
    "pitch_data.info()"
   ]
  },
  {
   "cell_type": "code",
   "execution_count": 4,
   "metadata": {},
   "outputs": [],
   "source": [
    "cols_to_drop=['p1_pitch_id','p0_pitch_id','result_type','pitch_data_id','season','team_id','game_id','inning_id','half_inning_id','at_bat_id','gid']\n",
    "# drop unneeded cols\n",
    "pitch_data = utils.drop_columns_by_list(pitch_data,cols_to_drop)\n",
    "# drop pickoffs, automatic balls, strikes, etc..\n",
    "pitch_data = utils.drop_unwanted_pitches(pitch_data)\n",
    "# set category of cols\n",
    "pitch_data = utils.set_dtypes(pitch_data)\n",
    "# drop nans\n",
    "pitch_data = pitch_data.dropna()\n",
    "all_data = pitch_data"
   ]
  },
  {
   "cell_type": "code",
   "execution_count": 5,
   "metadata": {},
   "outputs": [
    {
     "name": "stdout",
     "output_type": "stream",
     "text": [
      "<class 'pandas.core.frame.DataFrame'>\n",
      "Int64Index: 8751 entries, 0 to 9999\n",
      "Data columns (total 63 columns):\n",
      "pitcher_id             8751 non-null object\n",
      "team_abbrev            8751 non-null object\n",
      "era                    8751 non-null float64\n",
      "wins                   8751 non-null float64\n",
      "losses                 8751 non-null float64\n",
      "throws                 8751 non-null object\n",
      "b1_id                  8751 non-null object\n",
      "b1_team_id             8751 non-null object\n",
      "b1_stand               8751 non-null int64\n",
      "b1_height              8751 non-null int64\n",
      "b1_bats                8751 non-null object\n",
      "b1_avg                 8751 non-null float64\n",
      "b1_hr                  8751 non-null int64\n",
      "b1_rbi                 8751 non-null int64\n",
      "b1_bat_order           8751 non-null float64\n",
      "b1_game_position       8751 non-null object\n",
      "p1_pitch_seqno         8751 non-null int64\n",
      "p0_pitch_seqno         8751 non-null float64\n",
      "p0_inning              8751 non-null float64\n",
      "result_type_simple     8751 non-null object\n",
      "x                      8751 non-null float64\n",
      "y                      8751 non-null float64\n",
      "start_speed            8751 non-null float64\n",
      "end_speed              8751 non-null float64\n",
      "sz_top                 8751 non-null float64\n",
      "sz_bot                 8751 non-null float64\n",
      "pfx_x                  8751 non-null float64\n",
      "pfx_z                  8751 non-null float64\n",
      "px                     8751 non-null float64\n",
      "pz                     8751 non-null float64\n",
      "x0                     8751 non-null float64\n",
      "y0                     8751 non-null float64\n",
      "z0                     8751 non-null float64\n",
      "vx0                    8751 non-null float64\n",
      "vy0                    8751 non-null float64\n",
      "vz0                    8751 non-null float64\n",
      "ax                     8751 non-null float64\n",
      "ay                     8751 non-null float64\n",
      "az                     8751 non-null float64\n",
      "break_y                8751 non-null float64\n",
      "break_angle            8751 non-null float64\n",
      "break_length           8751 non-null float64\n",
      "p0_pitch_type          8751 non-null object\n",
      "type_confidence        8751 non-null float64\n",
      "zone                   8751 non-null float64\n",
      "nasty                  8751 non-null float64\n",
      "spin_dir               8751 non-null float64\n",
      "spin_rate              8751 non-null float64\n",
      "outcome                8751 non-null float64\n",
      "inning                 8751 non-null object\n",
      "pitch_count_atbat      8751 non-null int64\n",
      "pitch_count_team       8751 non-null int64\n",
      "balls                  8751 non-null int64\n",
      "strikes                8751 non-null int64\n",
      "outs                   8751 non-null int64\n",
      "is_runner_on_first     8751 non-null int64\n",
      "is_runner_on_second    8751 non-null int64\n",
      "is_runner_on_third     8751 non-null int64\n",
      "runs_pitcher_team      8751 non-null int64\n",
      "runs_batter_team       8751 non-null int64\n",
      "p1_pitch_type          8751 non-null object\n",
      "p0_at_bat_o            8751 non-null int64\n",
      "p0_pitch_des           8751 non-null object\n",
      "dtypes: float64(35), int64(16), object(12)\n",
      "memory usage: 4.3+ MB\n"
     ]
    }
   ],
   "source": [
    "pitch_data.info()"
   ]
  },
  {
   "cell_type": "code",
   "execution_count": 6,
   "metadata": {},
   "outputs": [
    {
     "name": "stdout",
     "output_type": "stream",
     "text": [
      "<class 'pandas.core.frame.DataFrame'>\n",
      "Int64Index: 8751 entries, 0 to 9999\n",
      "Columns: 1260 entries, era to p0_pitch_des_\n",
      "dtypes: float64(35), int64(16), uint8(1209)\n",
      "memory usage: 13.6 MB\n"
     ]
    }
   ],
   "source": [
    "pitch_types = pitch_data.loc[:,'p1_pitch_type']\n",
    "Y = utils.encode_simple_pitch_types(pitch_types)\n",
    "X = pitch_data.drop('p1_pitch_type',axis=1)\n",
    "# one hot encode necessary cols\n",
    "X = utils.one_hot_encode(X)\n",
    "X.info()"
   ]
  },
  {
   "cell_type": "code",
   "execution_count": 7,
   "metadata": {},
   "outputs": [],
   "source": [
    "X_train, X_test, y_train, y_test = utils.split_dataset_into_train_and_test(X,Y)"
   ]
  },
  {
   "cell_type": "code",
   "execution_count": 8,
   "metadata": {},
   "outputs": [
    {
     "name": "stdout",
     "output_type": "stream",
     "text": [
      "<class 'pandas.core.frame.DataFrame'>\n",
      "Int64Index: 7000 entries, 8831 to 8322\n",
      "Columns: 1260 entries, era to p0_pitch_des_\n",
      "dtypes: float64(35), int64(16), uint8(1209)\n",
      "memory usage: 10.8 MB\n"
     ]
    }
   ],
   "source": [
    "X_train.info()"
   ]
  },
  {
   "cell_type": "markdown",
   "metadata": {},
   "source": [
    "## Part2: Train an XGBoost multiclassifier"
   ]
  },
  {
   "cell_type": "code",
   "execution_count": 20,
   "metadata": {},
   "outputs": [],
   "source": [
    "import models.xgboost_model as xgb_model"
   ]
  },
  {
   "cell_type": "code",
   "execution_count": 8,
   "metadata": {},
   "outputs": [],
   "source": [
    "xgb_multi_class_model = xgb_model.get_multi_class_classifier_model()"
   ]
  },
  {
   "cell_type": "code",
   "execution_count": 11,
   "metadata": {},
   "outputs": [
    {
     "name": "stdout",
     "output_type": "stream",
     "text": [
      "\n",
      "Model Report\n",
      "Accuracy (Train) : 1.0\n",
      "Accuracy (Test) : 0.4447544642857143\n"
     ]
    }
   ],
   "source": [
    "xgb_model.fit_multi_class_model(model=xgb_multi_class_model,x_train=X_train,y_train=y_train,x_test=X_test,y_test=y_test,save_location='./training/xgb_multi_class.bin')"
   ]
  },
  {
   "cell_type": "markdown",
   "metadata": {},
   "source": [
    "It looks like we're overfitting. I'll remove the pitcher and batter ids"
   ]
  },
  {
   "cell_type": "code",
   "execution_count": 21,
   "metadata": {},
   "outputs": [
    {
     "name": "stdout",
     "output_type": "stream",
     "text": [
      "<class 'pandas.core.frame.DataFrame'>\n",
      "Int64Index: 8775 entries, 0 to 9998\n",
      "Columns: 156 entries, era to p0_pitch_des_\n",
      "dtypes: float64(35), int64(16), uint8(105)\n",
      "memory usage: 4.4 MB\n"
     ]
    }
   ],
   "source": [
    "pitch_data = all_data\n",
    "# remove the pitch\n",
    "cols_to_drop=['pitcher_id','b1_id']\n",
    "# drop unneeded cols\n",
    "pitch_data = utils.drop_columns_by_list(pitch_data,cols_to_drop)\n",
    "X = pitch_data.drop('p1_pitch_type',axis=1)\n",
    "# one hot encode necessary cols\n",
    "X = utils.one_hot_encode(X)\n",
    "X.info()"
   ]
  },
  {
   "cell_type": "code",
   "execution_count": 22,
   "metadata": {},
   "outputs": [],
   "source": [
    "X_train, X_test, y_train, y_test = utils.split_dataset_into_train_and_test(X,Y)"
   ]
  },
  {
   "cell_type": "code",
   "execution_count": 23,
   "metadata": {},
   "outputs": [
    {
     "name": "stdout",
     "output_type": "stream",
     "text": [
      "<class 'pandas.core.frame.DataFrame'>\n",
      "Int64Index: 7020 entries, 5478 to 8314\n",
      "Columns: 156 entries, era to p0_pitch_des_\n",
      "dtypes: float64(35), int64(16), uint8(105)\n",
      "memory usage: 3.5 MB\n"
     ]
    }
   ],
   "source": [
    "X_train.info()"
   ]
  },
  {
   "cell_type": "code",
   "execution_count": 24,
   "metadata": {},
   "outputs": [],
   "source": [
    "xgb_multi_class_model = xgb_model.get_multi_class_classifier_model()"
   ]
  },
  {
   "cell_type": "code",
   "execution_count": 25,
   "metadata": {},
   "outputs": [
    {
     "name": "stderr",
     "output_type": "stream",
     "text": [
      "/home/jpalomares/.local/lib/python3.6/site-packages/xgboost/core.py:587: FutureWarning: Series.base is deprecated and will be removed in a future version\n",
      "  if getattr(data, 'base', None) is not None and \\\n",
      "/home/jpalomares/.local/lib/python3.6/site-packages/sklearn/model_selection/_split.py:657: Warning: The least populated class in y has only 1 members, which is too few. The minimum number of members in any class cannot be less than n_splits=5.\n",
      "  % (min_groups, self.n_splits)), Warning)\n"
     ]
    },
    {
     "name": "stdout",
     "output_type": "stream",
     "text": [
      "\n",
      "Model Report\n",
      "Accuracy (Train) : 0.7210826210826211\n",
      "Accuracy (Test) : 0.4153846153846154\n"
     ]
    }
   ],
   "source": [
    "xgb_model.fit_multi_class_model(model=xgb_multi_class_model,x_train=X_train,y_train=y_train,x_test=X_test,y_test=y_test,save_location='./training/xgb_multi_class_no_pitcher_batter_id.bin',useTrainCV=True)"
   ]
  },
  {
   "cell_type": "markdown",
   "metadata": {},
   "source": [
    "## Part3: Try an NN"
   ]
  },
  {
   "cell_type": "code",
   "execution_count": 9,
   "metadata": {},
   "outputs": [
    {
     "name": "stdout",
     "output_type": "stream",
     "text": [
      "<class 'pandas.core.frame.DataFrame'>\n",
      "Int64Index: 8751 entries, 0 to 9999\n",
      "Columns: 155 entries, era to p0_pitch_des_\n",
      "dtypes: float64(35), int64(16), uint8(104)\n",
      "memory usage: 4.3 MB\n"
     ]
    }
   ],
   "source": [
    "pitch_data = all_data\n",
    "# remove the pitch\n",
    "cols_to_drop=['pitcher_id','b1_id']\n",
    "# drop unneeded cols\n",
    "pitch_data = utils.drop_columns_by_list(pitch_data,cols_to_drop)\n",
    "X = pitch_data.drop('p1_pitch_type',axis=1)\n",
    "# one hot encode necessary cols\n",
    "X = utils.one_hot_encode(X)\n",
    "X.info()"
   ]
  },
  {
   "cell_type": "code",
   "execution_count": 10,
   "metadata": {},
   "outputs": [
    {
     "name": "stderr",
     "output_type": "stream",
     "text": [
      "Using TensorFlow backend.\n",
      "/home/jpalomares/.local/lib/python3.6/site-packages/tensorflow/python/framework/dtypes.py:516: FutureWarning: Passing (type, 1) or '1type' as a synonym of type is deprecated; in a future version of numpy, it will be understood as (type, (1,)) / '(1,)type'.\n",
      "  _np_qint8 = np.dtype([(\"qint8\", np.int8, 1)])\n",
      "/home/jpalomares/.local/lib/python3.6/site-packages/tensorflow/python/framework/dtypes.py:517: FutureWarning: Passing (type, 1) or '1type' as a synonym of type is deprecated; in a future version of numpy, it will be understood as (type, (1,)) / '(1,)type'.\n",
      "  _np_quint8 = np.dtype([(\"quint8\", np.uint8, 1)])\n",
      "/home/jpalomares/.local/lib/python3.6/site-packages/tensorflow/python/framework/dtypes.py:518: FutureWarning: Passing (type, 1) or '1type' as a synonym of type is deprecated; in a future version of numpy, it will be understood as (type, (1,)) / '(1,)type'.\n",
      "  _np_qint16 = np.dtype([(\"qint16\", np.int16, 1)])\n",
      "/home/jpalomares/.local/lib/python3.6/site-packages/tensorflow/python/framework/dtypes.py:519: FutureWarning: Passing (type, 1) or '1type' as a synonym of type is deprecated; in a future version of numpy, it will be understood as (type, (1,)) / '(1,)type'.\n",
      "  _np_quint16 = np.dtype([(\"quint16\", np.uint16, 1)])\n",
      "/home/jpalomares/.local/lib/python3.6/site-packages/tensorflow/python/framework/dtypes.py:520: FutureWarning: Passing (type, 1) or '1type' as a synonym of type is deprecated; in a future version of numpy, it will be understood as (type, (1,)) / '(1,)type'.\n",
      "  _np_qint32 = np.dtype([(\"qint32\", np.int32, 1)])\n",
      "/home/jpalomares/.local/lib/python3.6/site-packages/tensorflow/python/framework/dtypes.py:525: FutureWarning: Passing (type, 1) or '1type' as a synonym of type is deprecated; in a future version of numpy, it will be understood as (type, (1,)) / '(1,)type'.\n",
      "  np_resource = np.dtype([(\"resource\", np.ubyte, 1)])\n",
      "/home/jpalomares/.local/lib/python3.6/site-packages/tensorboard/compat/tensorflow_stub/dtypes.py:541: FutureWarning: Passing (type, 1) or '1type' as a synonym of type is deprecated; in a future version of numpy, it will be understood as (type, (1,)) / '(1,)type'.\n",
      "  _np_qint8 = np.dtype([(\"qint8\", np.int8, 1)])\n",
      "/home/jpalomares/.local/lib/python3.6/site-packages/tensorboard/compat/tensorflow_stub/dtypes.py:542: FutureWarning: Passing (type, 1) or '1type' as a synonym of type is deprecated; in a future version of numpy, it will be understood as (type, (1,)) / '(1,)type'.\n",
      "  _np_quint8 = np.dtype([(\"quint8\", np.uint8, 1)])\n",
      "/home/jpalomares/.local/lib/python3.6/site-packages/tensorboard/compat/tensorflow_stub/dtypes.py:543: FutureWarning: Passing (type, 1) or '1type' as a synonym of type is deprecated; in a future version of numpy, it will be understood as (type, (1,)) / '(1,)type'.\n",
      "  _np_qint16 = np.dtype([(\"qint16\", np.int16, 1)])\n",
      "/home/jpalomares/.local/lib/python3.6/site-packages/tensorboard/compat/tensorflow_stub/dtypes.py:544: FutureWarning: Passing (type, 1) or '1type' as a synonym of type is deprecated; in a future version of numpy, it will be understood as (type, (1,)) / '(1,)type'.\n",
      "  _np_quint16 = np.dtype([(\"quint16\", np.uint16, 1)])\n",
      "/home/jpalomares/.local/lib/python3.6/site-packages/tensorboard/compat/tensorflow_stub/dtypes.py:545: FutureWarning: Passing (type, 1) or '1type' as a synonym of type is deprecated; in a future version of numpy, it will be understood as (type, (1,)) / '(1,)type'.\n",
      "  _np_qint32 = np.dtype([(\"qint32\", np.int32, 1)])\n",
      "/home/jpalomares/.local/lib/python3.6/site-packages/tensorboard/compat/tensorflow_stub/dtypes.py:550: FutureWarning: Passing (type, 1) or '1type' as a synonym of type is deprecated; in a future version of numpy, it will be understood as (type, (1,)) / '(1,)type'.\n",
      "  np_resource = np.dtype([(\"resource\", np.ubyte, 1)])\n"
     ]
    }
   ],
   "source": [
    "import models.nn_model as nn_model"
   ]
  },
  {
   "cell_type": "code",
   "execution_count": 12,
   "metadata": {},
   "outputs": [],
   "source": [
    "# 16 pitch types\n",
    "num_pitch_types = 16\n",
    "num_cols = len(X.iloc[0,:])\n",
    "X_train, X_test, y_train, y_test = utils.split_dataset_into_train_and_test(X,Y)"
   ]
  },
  {
   "cell_type": "code",
   "execution_count": 13,
   "metadata": {},
   "outputs": [
    {
     "name": "stderr",
     "output_type": "stream",
     "text": [
      "WARNING: Logging before flag parsing goes to stderr.\n",
      "W1208 19:54:53.695750 140020965308224 deprecation_wrapper.py:119] From /home/jpalomares/.local/lib/python3.6/site-packages/keras/backend/tensorflow_backend.py:74: The name tf.get_default_graph is deprecated. Please use tf.compat.v1.get_default_graph instead.\n",
      "\n",
      "W1208 19:54:53.712112 140020965308224 deprecation_wrapper.py:119] From /home/jpalomares/.local/lib/python3.6/site-packages/keras/backend/tensorflow_backend.py:517: The name tf.placeholder is deprecated. Please use tf.compat.v1.placeholder instead.\n",
      "\n",
      "W1208 19:54:53.714039 140020965308224 deprecation_wrapper.py:119] From /home/jpalomares/.local/lib/python3.6/site-packages/keras/backend/tensorflow_backend.py:4138: The name tf.random_uniform is deprecated. Please use tf.random.uniform instead.\n",
      "\n",
      "W1208 19:54:53.728638 140020965308224 deprecation_wrapper.py:119] From /home/jpalomares/.local/lib/python3.6/site-packages/keras/backend/tensorflow_backend.py:133: The name tf.placeholder_with_default is deprecated. Please use tf.compat.v1.placeholder_with_default instead.\n",
      "\n",
      "W1208 19:54:53.735527 140020965308224 deprecation.py:506] From /home/jpalomares/.local/lib/python3.6/site-packages/keras/backend/tensorflow_backend.py:3445: calling dropout (from tensorflow.python.ops.nn_ops) with keep_prob is deprecated and will be removed in a future version.\n",
      "Instructions for updating:\n",
      "Please use `rate` instead of `keep_prob`. Rate should be set to `rate = 1 - keep_prob`.\n",
      "W1208 19:54:53.787525 140020965308224 deprecation_wrapper.py:119] From /home/jpalomares/.local/lib/python3.6/site-packages/keras/optimizers.py:790: The name tf.train.Optimizer is deprecated. Please use tf.compat.v1.train.Optimizer instead.\n",
      "\n",
      "W1208 19:54:53.793908 140020965308224 deprecation_wrapper.py:119] From /home/jpalomares/.local/lib/python3.6/site-packages/keras/backend/tensorflow_backend.py:3295: The name tf.log is deprecated. Please use tf.math.log instead.\n",
      "\n"
     ]
    }
   ],
   "source": [
    "model = nn_model.get_multi_class_classifier_model(num_cols,num_pitch_types)"
   ]
  },
  {
   "cell_type": "code",
   "execution_count": 14,
   "metadata": {},
   "outputs": [
    {
     "ename": "ValueError",
     "evalue": "Error when checking target: expected dense_3 to have shape (16,) but got array with shape (1,)",
     "output_type": "error",
     "traceback": [
      "\u001b[0;31m---------------------------------------------------------------------------\u001b[0m",
      "\u001b[0;31mValueError\u001b[0m                                Traceback (most recent call last)",
      "\u001b[0;32m<ipython-input-14-7d550397cadc>\u001b[0m in \u001b[0;36m<module>\u001b[0;34m\u001b[0m\n\u001b[0;32m----> 1\u001b[0;31m \u001b[0mscore\u001b[0m\u001b[0;34m=\u001b[0m\u001b[0mnn_model\u001b[0m\u001b[0;34m.\u001b[0m\u001b[0mfit_multi_class_model\u001b[0m\u001b[0;34m(\u001b[0m\u001b[0mmodel\u001b[0m\u001b[0;34m,\u001b[0m\u001b[0mX_train\u001b[0m\u001b[0;34m,\u001b[0m\u001b[0my_train\u001b[0m\u001b[0;34m,\u001b[0m\u001b[0mX_test\u001b[0m\u001b[0;34m,\u001b[0m\u001b[0my_test\u001b[0m\u001b[0;34m)\u001b[0m\u001b[0;34m\u001b[0m\u001b[0;34m\u001b[0m\u001b[0m\n\u001b[0m",
      "\u001b[0;32m~/src/scalable_ml_project/models/nn_model.py\u001b[0m in \u001b[0;36mfit_multi_class_model\u001b[0;34m(model, x_train, y_train, x_test, y_test, num_epochs, batch_sz, set_verbose, num_splits, set_shuffle)\u001b[0m\n\u001b[1;32m     34\u001b[0m     \u001b[0;31m#kfold = KFold(n_splits=num_splits,shuffle=set_shuffle)\u001b[0m\u001b[0;34m\u001b[0m\u001b[0;34m\u001b[0m\u001b[0;34m\u001b[0m\u001b[0m\n\u001b[1;32m     35\u001b[0m     \u001b[0;31m#results = cross_val_score(estimator,X,y,cv=kfold)\u001b[0m\u001b[0;34m\u001b[0m\u001b[0;34m\u001b[0m\u001b[0;34m\u001b[0m\u001b[0m\n\u001b[0;32m---> 36\u001b[0;31m     \u001b[0mmodel\u001b[0m\u001b[0;34m.\u001b[0m\u001b[0mfit\u001b[0m\u001b[0;34m(\u001b[0m\u001b[0mx_train\u001b[0m\u001b[0;34m,\u001b[0m\u001b[0my_train\u001b[0m\u001b[0;34m,\u001b[0m\u001b[0mepochs\u001b[0m \u001b[0;34m=\u001b[0m \u001b[0mnum_epochs\u001b[0m\u001b[0;34m,\u001b[0m \u001b[0mbatch_size\u001b[0m \u001b[0;34m=\u001b[0m \u001b[0mbatch_sz\u001b[0m\u001b[0;34m)\u001b[0m\u001b[0;34m\u001b[0m\u001b[0;34m\u001b[0m\u001b[0m\n\u001b[0m\u001b[1;32m     37\u001b[0m     \u001b[0mscore\u001b[0m \u001b[0;34m=\u001b[0m \u001b[0mmodel\u001b[0m\u001b[0;34m.\u001b[0m\u001b[0mevaluate\u001b[0m\u001b[0;34m(\u001b[0m\u001b[0mx_test\u001b[0m\u001b[0;34m,\u001b[0m\u001b[0my_test\u001b[0m\u001b[0;34m,\u001b[0m\u001b[0mbatch_size\u001b[0m\u001b[0;34m=\u001b[0m\u001b[0mbatch_sz\u001b[0m\u001b[0;34m)\u001b[0m\u001b[0;34m\u001b[0m\u001b[0;34m\u001b[0m\u001b[0m\n\u001b[1;32m     38\u001b[0m     \u001b[0;32mreturn\u001b[0m \u001b[0mscore\u001b[0m\u001b[0;34m\u001b[0m\u001b[0;34m\u001b[0m\u001b[0m\n",
      "\u001b[0;32m~/.local/lib/python3.6/site-packages/keras/engine/training.py\u001b[0m in \u001b[0;36mfit\u001b[0;34m(self, x, y, batch_size, epochs, verbose, callbacks, validation_split, validation_data, shuffle, class_weight, sample_weight, initial_epoch, steps_per_epoch, validation_steps, **kwargs)\u001b[0m\n\u001b[1;32m    950\u001b[0m             \u001b[0msample_weight\u001b[0m\u001b[0;34m=\u001b[0m\u001b[0msample_weight\u001b[0m\u001b[0;34m,\u001b[0m\u001b[0;34m\u001b[0m\u001b[0;34m\u001b[0m\u001b[0m\n\u001b[1;32m    951\u001b[0m             \u001b[0mclass_weight\u001b[0m\u001b[0;34m=\u001b[0m\u001b[0mclass_weight\u001b[0m\u001b[0;34m,\u001b[0m\u001b[0;34m\u001b[0m\u001b[0;34m\u001b[0m\u001b[0m\n\u001b[0;32m--> 952\u001b[0;31m             batch_size=batch_size)\n\u001b[0m\u001b[1;32m    953\u001b[0m         \u001b[0;31m# Prepare validation data.\u001b[0m\u001b[0;34m\u001b[0m\u001b[0;34m\u001b[0m\u001b[0;34m\u001b[0m\u001b[0m\n\u001b[1;32m    954\u001b[0m         \u001b[0mdo_validation\u001b[0m \u001b[0;34m=\u001b[0m \u001b[0;32mFalse\u001b[0m\u001b[0;34m\u001b[0m\u001b[0;34m\u001b[0m\u001b[0m\n",
      "\u001b[0;32m~/.local/lib/python3.6/site-packages/keras/engine/training.py\u001b[0m in \u001b[0;36m_standardize_user_data\u001b[0;34m(self, x, y, sample_weight, class_weight, check_array_lengths, batch_size)\u001b[0m\n\u001b[1;32m    787\u001b[0m                 \u001b[0mfeed_output_shapes\u001b[0m\u001b[0;34m,\u001b[0m\u001b[0;34m\u001b[0m\u001b[0;34m\u001b[0m\u001b[0m\n\u001b[1;32m    788\u001b[0m                 \u001b[0mcheck_batch_axis\u001b[0m\u001b[0;34m=\u001b[0m\u001b[0;32mFalse\u001b[0m\u001b[0;34m,\u001b[0m  \u001b[0;31m# Don't enforce the batch size.\u001b[0m\u001b[0;34m\u001b[0m\u001b[0;34m\u001b[0m\u001b[0m\n\u001b[0;32m--> 789\u001b[0;31m                 exception_prefix='target')\n\u001b[0m\u001b[1;32m    790\u001b[0m \u001b[0;34m\u001b[0m\u001b[0m\n\u001b[1;32m    791\u001b[0m             \u001b[0;31m# Generate sample-wise weight values given the `sample_weight` and\u001b[0m\u001b[0;34m\u001b[0m\u001b[0;34m\u001b[0m\u001b[0;34m\u001b[0m\u001b[0m\n",
      "\u001b[0;32m~/.local/lib/python3.6/site-packages/keras/engine/training_utils.py\u001b[0m in \u001b[0;36mstandardize_input_data\u001b[0;34m(data, names, shapes, check_batch_axis, exception_prefix)\u001b[0m\n\u001b[1;32m    136\u001b[0m                             \u001b[0;34m': expected '\u001b[0m \u001b[0;34m+\u001b[0m \u001b[0mnames\u001b[0m\u001b[0;34m[\u001b[0m\u001b[0mi\u001b[0m\u001b[0;34m]\u001b[0m \u001b[0;34m+\u001b[0m \u001b[0;34m' to have shape '\u001b[0m \u001b[0;34m+\u001b[0m\u001b[0;34m\u001b[0m\u001b[0;34m\u001b[0m\u001b[0m\n\u001b[1;32m    137\u001b[0m                             \u001b[0mstr\u001b[0m\u001b[0;34m(\u001b[0m\u001b[0mshape\u001b[0m\u001b[0;34m)\u001b[0m \u001b[0;34m+\u001b[0m \u001b[0;34m' but got array with shape '\u001b[0m \u001b[0;34m+\u001b[0m\u001b[0;34m\u001b[0m\u001b[0;34m\u001b[0m\u001b[0m\n\u001b[0;32m--> 138\u001b[0;31m                             str(data_shape))\n\u001b[0m\u001b[1;32m    139\u001b[0m     \u001b[0;32mreturn\u001b[0m \u001b[0mdata\u001b[0m\u001b[0;34m\u001b[0m\u001b[0;34m\u001b[0m\u001b[0m\n\u001b[1;32m    140\u001b[0m \u001b[0;34m\u001b[0m\u001b[0m\n",
      "\u001b[0;31mValueError\u001b[0m: Error when checking target: expected dense_3 to have shape (16,) but got array with shape (1,)"
     ]
    }
   ],
   "source": [
    "score=nn_model.fit_multi_class_model(model,X_train,y_train,X_test,y_test)"
   ]
  },
  {
   "cell_type": "code",
   "execution_count": 15,
   "metadata": {},
   "outputs": [
    {
     "data": {
      "text/plain": [
       "2670    2\n",
       "3183    4\n",
       "5786    1\n",
       "7850    2\n",
       "6448    4\n",
       "       ..\n",
       "5695    4\n",
       "7385    2\n",
       "4193    2\n",
       "9023    1\n",
       "1436    1\n",
       "Name: p1_pitch_type, Length: 1751, dtype: int64"
      ]
     },
     "execution_count": 15,
     "metadata": {},
     "output_type": "execute_result"
    }
   ],
   "source": [
    "y_test"
   ]
  },
  {
   "cell_type": "code",
   "execution_count": null,
   "metadata": {},
   "outputs": [],
   "source": []
  }
 ],
 "metadata": {
  "kernelspec": {
   "display_name": "Python 3",
   "language": "python",
   "name": "python3"
  },
  "language_info": {
   "codemirror_mode": {
    "name": "ipython",
    "version": 3
   },
   "file_extension": ".py",
   "mimetype": "text/x-python",
   "name": "python",
   "nbconvert_exporter": "python",
   "pygments_lexer": "ipython3",
   "version": "3.6.9"
  }
 },
 "nbformat": 4,
 "nbformat_minor": 2
}
