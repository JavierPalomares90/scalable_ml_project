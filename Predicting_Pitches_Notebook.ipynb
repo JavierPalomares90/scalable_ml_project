{
 "cells": [
  {
   "cell_type": "markdown",
   "metadata": {},
   "source": [
    "# Predicting Pitches\n",
    "For our project, we'll aim to solve the problem of predicting the next pitch a Major League Baseball Pitcher will throw during an at bat"
   ]
  },
  {
   "cell_type": "code",
   "execution_count": 1,
   "metadata": {},
   "outputs": [],
   "source": [
    "import utils.utils as utils\n",
    "import pandas as pd"
   ]
  },
  {
   "cell_type": "markdown",
   "metadata": {},
   "source": [
    "## Part 1: Preprocessing the data"
   ]
  },
  {
   "cell_type": "code",
   "execution_count": 8,
   "metadata": {},
   "outputs": [
    {
     "data": {
      "text/html": [
       "<div>\n",
       "<style scoped>\n",
       "    .dataframe tbody tr th:only-of-type {\n",
       "        vertical-align: middle;\n",
       "    }\n",
       "\n",
       "    .dataframe tbody tr th {\n",
       "        vertical-align: top;\n",
       "    }\n",
       "\n",
       "    .dataframe thead th {\n",
       "        text-align: right;\n",
       "    }\n",
       "</style>\n",
       "<table border=\"1\" class=\"dataframe\">\n",
       "  <thead>\n",
       "    <tr style=\"text-align: right;\">\n",
       "      <th></th>\n",
       "      <th>pitch_data_id</th>\n",
       "      <th>season</th>\n",
       "      <th>pitcher_id</th>\n",
       "      <th>team_id</th>\n",
       "      <th>team_abbrev</th>\n",
       "      <th>era</th>\n",
       "      <th>wins</th>\n",
       "      <th>losses</th>\n",
       "      <th>throws</th>\n",
       "      <th>b1_id</th>\n",
       "      <th>...</th>\n",
       "      <th>is_runner_on_second</th>\n",
       "      <th>is_runner_on_third</th>\n",
       "      <th>runs_pitcher_team</th>\n",
       "      <th>runs_batter_team</th>\n",
       "      <th>game_id</th>\n",
       "      <th>inning_id</th>\n",
       "      <th>half_inning_id</th>\n",
       "      <th>at_bat_id</th>\n",
       "      <th>gid</th>\n",
       "      <th>p1_pitch_type</th>\n",
       "    </tr>\n",
       "  </thead>\n",
       "  <tbody>\n",
       "    <tr>\n",
       "      <td>0</td>\n",
       "      <td>282234</td>\n",
       "      <td>2018</td>\n",
       "      <td>598264</td>\n",
       "      <td>111</td>\n",
       "      <td>BOS</td>\n",
       "      <td>2.6</td>\n",
       "      <td>2.0</td>\n",
       "      <td>2.0</td>\n",
       "      <td>R</td>\n",
       "      <td>607208</td>\n",
       "      <td>...</td>\n",
       "      <td>False</td>\n",
       "      <td>False</td>\n",
       "      <td>0</td>\n",
       "      <td>0</td>\n",
       "      <td>06c8d771-e316-471b-a3ac-bbed7454b237</td>\n",
       "      <td>a105f7ad-9d9a-422f-9050-288dc94f1ffc</td>\n",
       "      <td>4ed07502-0d97-45ef-8572-ed494307f2a7</td>\n",
       "      <td>42a982f7-8602-444f-8f69-d2db01059d09</td>\n",
       "      <td>gid_2018_07_02_bosmlb_wasmlb_1</td>\n",
       "      <td>CU</td>\n",
       "    </tr>\n",
       "    <tr>\n",
       "      <td>1</td>\n",
       "      <td>282235</td>\n",
       "      <td>2018</td>\n",
       "      <td>598264</td>\n",
       "      <td>111</td>\n",
       "      <td>BOS</td>\n",
       "      <td>2.6</td>\n",
       "      <td>2.0</td>\n",
       "      <td>2.0</td>\n",
       "      <td>R</td>\n",
       "      <td>607208</td>\n",
       "      <td>...</td>\n",
       "      <td>False</td>\n",
       "      <td>False</td>\n",
       "      <td>0</td>\n",
       "      <td>0</td>\n",
       "      <td>06c8d771-e316-471b-a3ac-bbed7454b237</td>\n",
       "      <td>a105f7ad-9d9a-422f-9050-288dc94f1ffc</td>\n",
       "      <td>4ed07502-0d97-45ef-8572-ed494307f2a7</td>\n",
       "      <td>42a982f7-8602-444f-8f69-d2db01059d09</td>\n",
       "      <td>gid_2018_07_02_bosmlb_wasmlb_1</td>\n",
       "      <td>CU</td>\n",
       "    </tr>\n",
       "    <tr>\n",
       "      <td>2</td>\n",
       "      <td>282236</td>\n",
       "      <td>2018</td>\n",
       "      <td>598264</td>\n",
       "      <td>111</td>\n",
       "      <td>BOS</td>\n",
       "      <td>2.6</td>\n",
       "      <td>2.0</td>\n",
       "      <td>2.0</td>\n",
       "      <td>R</td>\n",
       "      <td>607208</td>\n",
       "      <td>...</td>\n",
       "      <td>False</td>\n",
       "      <td>False</td>\n",
       "      <td>0</td>\n",
       "      <td>0</td>\n",
       "      <td>06c8d771-e316-471b-a3ac-bbed7454b237</td>\n",
       "      <td>a105f7ad-9d9a-422f-9050-288dc94f1ffc</td>\n",
       "      <td>4ed07502-0d97-45ef-8572-ed494307f2a7</td>\n",
       "      <td>42a982f7-8602-444f-8f69-d2db01059d09</td>\n",
       "      <td>gid_2018_07_02_bosmlb_wasmlb_1</td>\n",
       "      <td>FF</td>\n",
       "    </tr>\n",
       "    <tr>\n",
       "      <td>3</td>\n",
       "      <td>282237</td>\n",
       "      <td>2018</td>\n",
       "      <td>598264</td>\n",
       "      <td>111</td>\n",
       "      <td>BOS</td>\n",
       "      <td>2.6</td>\n",
       "      <td>2.0</td>\n",
       "      <td>2.0</td>\n",
       "      <td>R</td>\n",
       "      <td>607208</td>\n",
       "      <td>...</td>\n",
       "      <td>False</td>\n",
       "      <td>False</td>\n",
       "      <td>0</td>\n",
       "      <td>0</td>\n",
       "      <td>06c8d771-e316-471b-a3ac-bbed7454b237</td>\n",
       "      <td>a105f7ad-9d9a-422f-9050-288dc94f1ffc</td>\n",
       "      <td>4ed07502-0d97-45ef-8572-ed494307f2a7</td>\n",
       "      <td>42a982f7-8602-444f-8f69-d2db01059d09</td>\n",
       "      <td>gid_2018_07_02_bosmlb_wasmlb_1</td>\n",
       "      <td>FF</td>\n",
       "    </tr>\n",
       "    <tr>\n",
       "      <td>4</td>\n",
       "      <td>282238</td>\n",
       "      <td>2018</td>\n",
       "      <td>598264</td>\n",
       "      <td>111</td>\n",
       "      <td>BOS</td>\n",
       "      <td>2.6</td>\n",
       "      <td>2.0</td>\n",
       "      <td>2.0</td>\n",
       "      <td>R</td>\n",
       "      <td>607208</td>\n",
       "      <td>...</td>\n",
       "      <td>False</td>\n",
       "      <td>False</td>\n",
       "      <td>0</td>\n",
       "      <td>0</td>\n",
       "      <td>06c8d771-e316-471b-a3ac-bbed7454b237</td>\n",
       "      <td>a105f7ad-9d9a-422f-9050-288dc94f1ffc</td>\n",
       "      <td>4ed07502-0d97-45ef-8572-ed494307f2a7</td>\n",
       "      <td>42a982f7-8602-444f-8f69-d2db01059d09</td>\n",
       "      <td>gid_2018_07_02_bosmlb_wasmlb_1</td>\n",
       "      <td>CU</td>\n",
       "    </tr>\n",
       "  </tbody>\n",
       "</table>\n",
       "<p>5 rows × 72 columns</p>\n",
       "</div>"
      ],
      "text/plain": [
       "   pitch_data_id  season  pitcher_id team_id team_abbrev  era  wins  losses  \\\n",
       "0         282234    2018      598264     111         BOS  2.6   2.0     2.0   \n",
       "1         282235    2018      598264     111         BOS  2.6   2.0     2.0   \n",
       "2         282236    2018      598264     111         BOS  2.6   2.0     2.0   \n",
       "3         282237    2018      598264     111         BOS  2.6   2.0     2.0   \n",
       "4         282238    2018      598264     111         BOS  2.6   2.0     2.0   \n",
       "\n",
       "  throws   b1_id  ... is_runner_on_second is_runner_on_third  \\\n",
       "0      R  607208  ...               False              False   \n",
       "1      R  607208  ...               False              False   \n",
       "2      R  607208  ...               False              False   \n",
       "3      R  607208  ...               False              False   \n",
       "4      R  607208  ...               False              False   \n",
       "\n",
       "   runs_pitcher_team runs_batter_team                               game_id  \\\n",
       "0                  0                0  06c8d771-e316-471b-a3ac-bbed7454b237   \n",
       "1                  0                0  06c8d771-e316-471b-a3ac-bbed7454b237   \n",
       "2                  0                0  06c8d771-e316-471b-a3ac-bbed7454b237   \n",
       "3                  0                0  06c8d771-e316-471b-a3ac-bbed7454b237   \n",
       "4                  0                0  06c8d771-e316-471b-a3ac-bbed7454b237   \n",
       "\n",
       "                              inning_id                        half_inning_id  \\\n",
       "0  a105f7ad-9d9a-422f-9050-288dc94f1ffc  4ed07502-0d97-45ef-8572-ed494307f2a7   \n",
       "1  a105f7ad-9d9a-422f-9050-288dc94f1ffc  4ed07502-0d97-45ef-8572-ed494307f2a7   \n",
       "2  a105f7ad-9d9a-422f-9050-288dc94f1ffc  4ed07502-0d97-45ef-8572-ed494307f2a7   \n",
       "3  a105f7ad-9d9a-422f-9050-288dc94f1ffc  4ed07502-0d97-45ef-8572-ed494307f2a7   \n",
       "4  a105f7ad-9d9a-422f-9050-288dc94f1ffc  4ed07502-0d97-45ef-8572-ed494307f2a7   \n",
       "\n",
       "                              at_bat_id                             gid  \\\n",
       "0  42a982f7-8602-444f-8f69-d2db01059d09  gid_2018_07_02_bosmlb_wasmlb_1   \n",
       "1  42a982f7-8602-444f-8f69-d2db01059d09  gid_2018_07_02_bosmlb_wasmlb_1   \n",
       "2  42a982f7-8602-444f-8f69-d2db01059d09  gid_2018_07_02_bosmlb_wasmlb_1   \n",
       "3  42a982f7-8602-444f-8f69-d2db01059d09  gid_2018_07_02_bosmlb_wasmlb_1   \n",
       "4  42a982f7-8602-444f-8f69-d2db01059d09  gid_2018_07_02_bosmlb_wasmlb_1   \n",
       "\n",
       "  p1_pitch_type  \n",
       "0            CU  \n",
       "1            CU  \n",
       "2            FF  \n",
       "3            FF  \n",
       "4            CU  \n",
       "\n",
       "[5 rows x 72 columns]"
      ]
     },
     "execution_count": 8,
     "metadata": {},
     "output_type": "execute_result"
    }
   ],
   "source": [
    "# get the data\n",
    "pitch_data = utils.get_pitch_data()\n",
    "pitch_data.head()"
   ]
  },
  {
   "cell_type": "code",
   "execution_count": 9,
   "metadata": {},
   "outputs": [
    {
     "name": "stdout",
     "output_type": "stream",
     "text": [
      "<class 'pandas.core.frame.DataFrame'>\n",
      "RangeIndex: 10000 entries, 0 to 9999\n",
      "Data columns (total 72 columns):\n",
      "pitch_data_id          10000 non-null int64\n",
      "season                 10000 non-null int64\n",
      "pitcher_id             10000 non-null int64\n",
      "team_id                10000 non-null object\n",
      "team_abbrev            10000 non-null object\n",
      "era                    10000 non-null float64\n",
      "wins                   9991 non-null float64\n",
      "losses                 9991 non-null float64\n",
      "throws                 10000 non-null object\n",
      "b1_id                  10000 non-null int64\n",
      "b1_team_id             10000 non-null object\n",
      "b1_stand               10000 non-null object\n",
      "b1_height              10000 non-null int64\n",
      "b1_bats                10000 non-null object\n",
      "b1_avg                 10000 non-null float64\n",
      "b1_hr                  10000 non-null int64\n",
      "b1_rbi                 10000 non-null int64\n",
      "b1_bat_order           9347 non-null float64\n",
      "b1_game_position       9347 non-null object\n",
      "p1_pitch_id            10000 non-null object\n",
      "p0_pitch_id            9724 non-null object\n",
      "p1_pitch_seqno         10000 non-null int64\n",
      "p0_pitch_seqno         9724 non-null float64\n",
      "p0_inning              9724 non-null float64\n",
      "result_type            9724 non-null object\n",
      "result_type_simple     9724 non-null object\n",
      "x                      9720 non-null float64\n",
      "y                      9720 non-null float64\n",
      "start_speed            9669 non-null float64\n",
      "end_speed              9669 non-null float64\n",
      "sz_top                 9719 non-null float64\n",
      "sz_bot                 9719 non-null float64\n",
      "pfx_x                  9669 non-null float64\n",
      "pfx_z                  9669 non-null float64\n",
      "px                     9669 non-null float64\n",
      "pz                     9669 non-null float64\n",
      "x0                     9669 non-null float64\n",
      "y0                     9669 non-null float64\n",
      "z0                     9669 non-null float64\n",
      "vx0                    9669 non-null float64\n",
      "vy0                    9669 non-null float64\n",
      "vz0                    9669 non-null float64\n",
      "ax                     9669 non-null float64\n",
      "ay                     9669 non-null float64\n",
      "az                     9669 non-null float64\n",
      "break_y                9669 non-null float64\n",
      "break_angle            9669 non-null float64\n",
      "break_length           9669 non-null float64\n",
      "p0_pitch_type          9669 non-null object\n",
      "type_confidence        9400 non-null float64\n",
      "zone                   9400 non-null float64\n",
      "nasty                  9400 non-null float64\n",
      "spin_dir               9400 non-null float64\n",
      "spin_rate              9400 non-null float64\n",
      "outcome                9724 non-null float64\n",
      "inning                 10000 non-null int64\n",
      "pitch_count_atbat      10000 non-null int64\n",
      "pitch_count_team       10000 non-null int64\n",
      "balls                  10000 non-null int64\n",
      "strikes                10000 non-null int64\n",
      "outs                   10000 non-null int64\n",
      "is_runner_on_first     10000 non-null bool\n",
      "is_runner_on_second    10000 non-null bool\n",
      "is_runner_on_third     10000 non-null bool\n",
      "runs_pitcher_team      10000 non-null int64\n",
      "runs_batter_team       10000 non-null int64\n",
      "game_id                10000 non-null object\n",
      "inning_id              10000 non-null object\n",
      "half_inning_id         10000 non-null object\n",
      "at_bat_id              10000 non-null object\n",
      "gid                    10000 non-null object\n",
      "p1_pitch_type          9944 non-null object\n",
      "dtypes: bool(3), float64(35), int64(16), object(18)\n",
      "memory usage: 5.3+ MB\n"
     ]
    }
   ],
   "source": [
    "pitch_data.info()"
   ]
  },
  {
   "cell_type": "code",
   "execution_count": 10,
   "metadata": {},
   "outputs": [],
   "source": [
    "cols_to_drop=['p1_pitch_id','p0_pitch_id','result_type','pitch_data_id','season','team_id','game_id','inning_id','half_inning_id','at_bat_id','gid']\n",
    "# drop unneeded cols\n",
    "pitch_data = utils.drop_columns_by_list(pitch_data,cols_to_drop)\n",
    "# drop pickoff attempts\n",
    "pitch_data = utils.drop_pickoffs(pitch_data)\n",
    "# set category of cols\n",
    "pitch_data = utils.set_dtypes(pitch_data)\n",
    "# drop nans\n",
    "pitch_data = pitch_data.dropna()\n",
    "all_data = pitch_data"
   ]
  },
  {
   "cell_type": "code",
   "execution_count": 5,
   "metadata": {},
   "outputs": [
    {
     "name": "stdout",
     "output_type": "stream",
     "text": [
      "<class 'pandas.core.frame.DataFrame'>\n",
      "Int64Index: 8872 entries, 0 to 9999\n",
      "Data columns (total 61 columns):\n",
      "pitcher_id             8872 non-null object\n",
      "team_abbrev            8872 non-null object\n",
      "era                    8872 non-null float64\n",
      "wins                   8872 non-null float64\n",
      "losses                 8872 non-null float64\n",
      "throws                 8872 non-null object\n",
      "b1_id                  8872 non-null object\n",
      "b1_team_id             8872 non-null object\n",
      "b1_stand               8872 non-null int64\n",
      "b1_height              8872 non-null int64\n",
      "b1_bats                8872 non-null object\n",
      "b1_avg                 8872 non-null float64\n",
      "b1_hr                  8872 non-null int64\n",
      "b1_rbi                 8872 non-null int64\n",
      "b1_bat_order           8872 non-null float64\n",
      "b1_game_position       8872 non-null object\n",
      "p1_pitch_seqno         8872 non-null int64\n",
      "p0_pitch_seqno         8872 non-null float64\n",
      "p0_inning              8872 non-null float64\n",
      "result_type_simple     8872 non-null object\n",
      "x                      8872 non-null float64\n",
      "y                      8872 non-null float64\n",
      "start_speed            8872 non-null float64\n",
      "end_speed              8872 non-null float64\n",
      "sz_top                 8872 non-null float64\n",
      "sz_bot                 8872 non-null float64\n",
      "pfx_x                  8872 non-null float64\n",
      "pfx_z                  8872 non-null float64\n",
      "px                     8872 non-null float64\n",
      "pz                     8872 non-null float64\n",
      "x0                     8872 non-null float64\n",
      "y0                     8872 non-null float64\n",
      "z0                     8872 non-null float64\n",
      "vx0                    8872 non-null float64\n",
      "vy0                    8872 non-null float64\n",
      "vz0                    8872 non-null float64\n",
      "ax                     8872 non-null float64\n",
      "ay                     8872 non-null float64\n",
      "az                     8872 non-null float64\n",
      "break_y                8872 non-null float64\n",
      "break_angle            8872 non-null float64\n",
      "break_length           8872 non-null float64\n",
      "p0_pitch_type          8872 non-null object\n",
      "type_confidence        8872 non-null float64\n",
      "zone                   8872 non-null float64\n",
      "nasty                  8872 non-null float64\n",
      "spin_dir               8872 non-null float64\n",
      "spin_rate              8872 non-null float64\n",
      "outcome                8872 non-null float64\n",
      "inning                 8872 non-null object\n",
      "pitch_count_atbat      8872 non-null int64\n",
      "pitch_count_team       8872 non-null int64\n",
      "balls                  8872 non-null int64\n",
      "strikes                8872 non-null int64\n",
      "outs                   8872 non-null int64\n",
      "is_runner_on_first     8872 non-null int64\n",
      "is_runner_on_second    8872 non-null int64\n",
      "is_runner_on_third     8872 non-null int64\n",
      "runs_pitcher_team      8872 non-null int64\n",
      "runs_batter_team       8872 non-null int64\n",
      "p1_pitch_type          8872 non-null object\n",
      "dtypes: float64(35), int64(15), object(11)\n",
      "memory usage: 4.2+ MB\n"
     ]
    }
   ],
   "source": [
    "pitch_data.info()"
   ]
  },
  {
   "cell_type": "code",
   "execution_count": 7,
   "metadata": {},
   "outputs": [
    {
     "name": "stdout",
     "output_type": "stream",
     "text": [
      "<class 'pandas.core.frame.DataFrame'>\n",
      "Int64Index: 8743 entries, 0 to 9999\n",
      "Columns: 158 entries, era to inning_16\n",
      "dtypes: float64(35), int64(15), uint8(108)\n",
      "memory usage: 4.3 MB\n"
     ]
    }
   ],
   "source": [
    "pitch_types = pitch_data.loc[:,'p1_pitch_type']\n",
    "Y = utils.encode_pitch_types(pitch_types)\n",
    "X = pitch_data.drop('p1_pitch_type',axis=1)\n",
    "# one hot encode necessary cols\n",
    "X = utils.one_hot_encode(X)\n",
    "X.info()"
   ]
  },
  {
   "cell_type": "code",
   "execution_count": 7,
   "metadata": {},
   "outputs": [],
   "source": [
    "X_train, X_test, y_train, y_test = utils.split_dataset_into_train_and_test(X,Y)"
   ]
  },
  {
   "cell_type": "code",
   "execution_count": 8,
   "metadata": {},
   "outputs": [
    {
     "name": "stdout",
     "output_type": "stream",
     "text": [
      "<class 'pandas.core.frame.DataFrame'>\n",
      "Int64Index: 7166 entries, 6012 to 8143\n",
      "Columns: 1148 entries, era to inning_14\n",
      "dtypes: float64(35), int64(15), uint8(1098)\n",
      "memory usage: 10.3 MB\n"
     ]
    }
   ],
   "source": [
    "X_train.info()"
   ]
  },
  {
   "cell_type": "markdown",
   "metadata": {},
   "source": [
    "## Part2: Train an XGBoost multiclassifier"
   ]
  },
  {
   "cell_type": "code",
   "execution_count": 7,
   "metadata": {},
   "outputs": [],
   "source": [
    "import models.xgboost_model as xgb_model"
   ]
  },
  {
   "cell_type": "code",
   "execution_count": 8,
   "metadata": {},
   "outputs": [],
   "source": [
    "xgb_multi_class_model = xgb_model.get_multi_class_classifier_model()"
   ]
  },
  {
   "cell_type": "code",
   "execution_count": 11,
   "metadata": {},
   "outputs": [
    {
     "name": "stdout",
     "output_type": "stream",
     "text": [
      "\n",
      "Model Report\n",
      "Accuracy (Train) : 1.0\n",
      "Accuracy (Test) : 0.4447544642857143\n"
     ]
    }
   ],
   "source": [
    "xgb_model.fit_multi_class_model(model=xgb_multi_class_model,x_train=X_train,y_train=y_train,x_test=X_test,y_test=y_test,save_location='./training/xgb_multi_class.bin')"
   ]
  },
  {
   "cell_type": "markdown",
   "metadata": {},
   "source": [
    "It looks like we're overfitting. I'll remove the pitcher and batter ids"
   ]
  },
  {
   "cell_type": "code",
   "execution_count": 5,
   "metadata": {},
   "outputs": [
    {
     "name": "stdout",
     "output_type": "stream",
     "text": [
      "<class 'pandas.core.frame.DataFrame'>\n",
      "Int64Index: 8743 entries, 0 to 9999\n",
      "Columns: 158 entries, era to inning_16\n",
      "dtypes: float64(35), int64(15), uint8(108)\n",
      "memory usage: 4.3 MB\n"
     ]
    }
   ],
   "source": [
    "pitch_data = all_data\n",
    "# remove the pitch\n",
    "cols_to_drop=['pitcher_id','b1_id']\n",
    "# drop unneeded cols\n",
    "pitch_data = utils.drop_columns_by_list(pitch_data,cols_to_drop)\n",
    "X = pitch_data.drop('p1_pitch_type',axis=1)\n",
    "# one hot encode necessary cols\n",
    "X = utils.one_hot_encode(X)\n",
    "X.info()"
   ]
  },
  {
   "cell_type": "code",
   "execution_count": 6,
   "metadata": {},
   "outputs": [
    {
     "ename": "NameError",
     "evalue": "name 'Y' is not defined",
     "output_type": "error",
     "traceback": [
      "\u001b[0;31m---------------------------------------------------------------------------\u001b[0m",
      "\u001b[0;31mNameError\u001b[0m                                 Traceback (most recent call last)",
      "\u001b[0;32m<ipython-input-6-b2488f524fb9>\u001b[0m in \u001b[0;36m<module>\u001b[0;34m\u001b[0m\n\u001b[0;32m----> 1\u001b[0;31m \u001b[0mX_train\u001b[0m\u001b[0;34m,\u001b[0m \u001b[0mX_test\u001b[0m\u001b[0;34m,\u001b[0m \u001b[0my_train\u001b[0m\u001b[0;34m,\u001b[0m \u001b[0my_test\u001b[0m \u001b[0;34m=\u001b[0m \u001b[0mutils\u001b[0m\u001b[0;34m.\u001b[0m\u001b[0msplit_dataset_into_train_and_test\u001b[0m\u001b[0;34m(\u001b[0m\u001b[0mX\u001b[0m\u001b[0;34m,\u001b[0m\u001b[0mY\u001b[0m\u001b[0;34m)\u001b[0m\u001b[0;34m\u001b[0m\u001b[0;34m\u001b[0m\u001b[0m\n\u001b[0m",
      "\u001b[0;31mNameError\u001b[0m: name 'Y' is not defined"
     ]
    }
   ],
   "source": [
    "X_train, X_test, y_train, y_test = utils.split_dataset_into_train_and_test(X,Y)"
   ]
  },
  {
   "cell_type": "code",
   "execution_count": 11,
   "metadata": {},
   "outputs": [
    {
     "name": "stdout",
     "output_type": "stream",
     "text": [
      "<class 'pandas.core.frame.DataFrame'>\n",
      "Int64Index: 7097 entries, 7039 to 8201\n",
      "Columns: 155 entries, era to inning_15\n",
      "dtypes: float64(35), int64(15), uint8(105)\n",
      "memory usage: 3.5 MB\n"
     ]
    }
   ],
   "source": [
    "X_train.info()"
   ]
  },
  {
   "cell_type": "code",
   "execution_count": 12,
   "metadata": {},
   "outputs": [],
   "source": [
    "xgb_multi_class_model = xgb_model.get_multi_class_classifier_model()"
   ]
  },
  {
   "cell_type": "code",
   "execution_count": 14,
   "metadata": {},
   "outputs": [
    {
     "name": "stderr",
     "output_type": "stream",
     "text": [
      "/home/jpalomares/.local/lib/python3.6/site-packages/xgboost/core.py:587: FutureWarning: Series.base is deprecated and will be removed in a future version\n",
      "  if getattr(data, 'base', None) is not None and \\\n"
     ]
    },
    {
     "ename": "NameError",
     "evalue": "name 'alg' is not defined",
     "output_type": "error",
     "traceback": [
      "\u001b[0;31m---------------------------------------------------------------------------\u001b[0m",
      "\u001b[0;31mNameError\u001b[0m                                 Traceback (most recent call last)",
      "\u001b[0;32m<ipython-input-14-c8e67aedfead>\u001b[0m in \u001b[0;36m<module>\u001b[0;34m\u001b[0m\n\u001b[0;32m----> 1\u001b[0;31m \u001b[0mxgb_model\u001b[0m\u001b[0;34m.\u001b[0m\u001b[0mfit_multi_class_model\u001b[0m\u001b[0;34m(\u001b[0m\u001b[0mmodel\u001b[0m\u001b[0;34m=\u001b[0m\u001b[0mxgb_multi_class_model\u001b[0m\u001b[0;34m,\u001b[0m\u001b[0mx_train\u001b[0m\u001b[0;34m=\u001b[0m\u001b[0mX_train\u001b[0m\u001b[0;34m,\u001b[0m\u001b[0my_train\u001b[0m\u001b[0;34m=\u001b[0m\u001b[0my_train\u001b[0m\u001b[0;34m,\u001b[0m\u001b[0mx_test\u001b[0m\u001b[0;34m=\u001b[0m\u001b[0mX_test\u001b[0m\u001b[0;34m,\u001b[0m\u001b[0my_test\u001b[0m\u001b[0;34m=\u001b[0m\u001b[0my_test\u001b[0m\u001b[0;34m,\u001b[0m\u001b[0msave_location\u001b[0m\u001b[0;34m=\u001b[0m\u001b[0;34m'./training/xgb_multi_class_no_pitcher_batter_id.bin'\u001b[0m\u001b[0;34m,\u001b[0m\u001b[0museTrainCV\u001b[0m\u001b[0;34m=\u001b[0m\u001b[0;32mTrue\u001b[0m\u001b[0;34m)\u001b[0m\u001b[0;34m\u001b[0m\u001b[0;34m\u001b[0m\u001b[0m\n\u001b[0m",
      "\u001b[0;32m~/src/scalable_ml_project/models/xgboost_model.py\u001b[0m in \u001b[0;36mfit_multi_class_model\u001b[0;34m(model, x_train, y_train, x_test, y_test, useTrainCV, cv_folds, early_stopping_rounds, save_location)\u001b[0m\n\u001b[1;32m     67\u001b[0m         \u001b[0mxgtrain\u001b[0m \u001b[0;34m=\u001b[0m \u001b[0mxgb\u001b[0m\u001b[0;34m.\u001b[0m\u001b[0mDMatrix\u001b[0m\u001b[0;34m(\u001b[0m\u001b[0mx_train\u001b[0m\u001b[0;34m.\u001b[0m\u001b[0mvalues\u001b[0m\u001b[0;34m,\u001b[0m \u001b[0mlabel\u001b[0m\u001b[0;34m=\u001b[0m\u001b[0my_train\u001b[0m\u001b[0;34m)\u001b[0m\u001b[0;34m\u001b[0m\u001b[0;34m\u001b[0m\u001b[0m\n\u001b[1;32m     68\u001b[0m         cvresult = xgb.cv(xgb_param, xgtrain, \n\u001b[0;32m---> 69\u001b[0;31m                           num_boost_round=alg.get_params()['n_estimators'], nfold=cv_folds, early_stopping_rounds=early_stopping_rounds)\n\u001b[0m\u001b[1;32m     70\u001b[0m         \u001b[0mmodel\u001b[0m\u001b[0;34m.\u001b[0m\u001b[0mset_params\u001b[0m\u001b[0;34m(\u001b[0m\u001b[0mn_estimators\u001b[0m\u001b[0;34m=\u001b[0m\u001b[0mcvresult\u001b[0m\u001b[0;34m.\u001b[0m\u001b[0mshape\u001b[0m\u001b[0;34m[\u001b[0m\u001b[0;36m0\u001b[0m\u001b[0;34m]\u001b[0m\u001b[0;34m)\u001b[0m\u001b[0;34m\u001b[0m\u001b[0;34m\u001b[0m\u001b[0m\n\u001b[1;32m     71\u001b[0m \u001b[0;34m\u001b[0m\u001b[0m\n",
      "\u001b[0;31mNameError\u001b[0m: name 'alg' is not defined"
     ]
    }
   ],
   "source": [
    "xgb_model.fit_multi_class_model(model=xgb_multi_class_model,x_train=X_train,y_train=y_train,x_test=X_test,y_test=y_test,save_location='./training/xgb_multi_class_no_pitcher_batter_id.bin',useTrainCV=True)"
   ]
  },
  {
   "cell_type": "code",
   "execution_count": null,
   "metadata": {},
   "outputs": [],
   "source": []
  }
 ],
 "metadata": {
  "kernelspec": {
   "display_name": "Python 3",
   "language": "python",
   "name": "python3"
  },
  "language_info": {
   "codemirror_mode": {
    "name": "ipython",
    "version": 3
   },
   "file_extension": ".py",
   "mimetype": "text/x-python",
   "name": "python",
   "nbconvert_exporter": "python",
   "pygments_lexer": "ipython3",
   "version": "3.6.9"
  }
 },
 "nbformat": 4,
 "nbformat_minor": 2
}
