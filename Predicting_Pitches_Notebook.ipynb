{
 "cells": [
  {
   "cell_type": "markdown",
   "metadata": {},
   "source": [
    "# Predicting Pitches\n",
    "For our project, we'll aim to solve the problem of predicting the next pitch a Major League Baseball Pitcher will throw during an at bat"
   ]
  },
  {
   "cell_type": "code",
   "execution_count": 1,
   "metadata": {},
   "outputs": [],
   "source": [
    "import utils.utils as utils\n",
    "import pandas as pd"
   ]
  },
  {
   "cell_type": "markdown",
   "metadata": {},
   "source": [
    "## Part 1: Preprocessing the data"
   ]
  },
  {
   "cell_type": "code",
   "execution_count": 2,
   "metadata": {},
   "outputs": [
    {
     "data": {
      "text/html": [
       "<div>\n",
       "<style scoped>\n",
       "    .dataframe tbody tr th:only-of-type {\n",
       "        vertical-align: middle;\n",
       "    }\n",
       "\n",
       "    .dataframe tbody tr th {\n",
       "        vertical-align: top;\n",
       "    }\n",
       "\n",
       "    .dataframe thead th {\n",
       "        text-align: right;\n",
       "    }\n",
       "</style>\n",
       "<table border=\"1\" class=\"dataframe\">\n",
       "  <thead>\n",
       "    <tr style=\"text-align: right;\">\n",
       "      <th></th>\n",
       "      <th>pitch_data_id</th>\n",
       "      <th>season</th>\n",
       "      <th>pitcher_id</th>\n",
       "      <th>team_id</th>\n",
       "      <th>team_abbrev</th>\n",
       "      <th>era</th>\n",
       "      <th>wins</th>\n",
       "      <th>losses</th>\n",
       "      <th>throws</th>\n",
       "      <th>b1_id</th>\n",
       "      <th>...</th>\n",
       "      <th>is_runner_on_second</th>\n",
       "      <th>is_runner_on_third</th>\n",
       "      <th>runs_pitcher_team</th>\n",
       "      <th>runs_batter_team</th>\n",
       "      <th>game_id</th>\n",
       "      <th>inning_id</th>\n",
       "      <th>half_inning_id</th>\n",
       "      <th>at_bat_id</th>\n",
       "      <th>gid</th>\n",
       "      <th>p1_pitch_type</th>\n",
       "    </tr>\n",
       "  </thead>\n",
       "  <tbody>\n",
       "    <tr>\n",
       "      <td>0</td>\n",
       "      <td>262971</td>\n",
       "      <td>2018</td>\n",
       "      <td>594577</td>\n",
       "      <td>138</td>\n",
       "      <td>STL</td>\n",
       "      <td>3.10</td>\n",
       "      <td>2.0</td>\n",
       "      <td>0.0</td>\n",
       "      <td>R</td>\n",
       "      <td>660162</td>\n",
       "      <td>...</td>\n",
       "      <td>False</td>\n",
       "      <td>False</td>\n",
       "      <td>0</td>\n",
       "      <td>0</td>\n",
       "      <td>18ebcf8e-a95e-440e-afba-0a8109cc8190</td>\n",
       "      <td>e4c0158e-2211-43ac-9fcd-1a2291990694</td>\n",
       "      <td>bcdb17e8-0729-44f1-bee4-32d548d269d9</td>\n",
       "      <td>3a7990d9-3b12-4b2c-b08d-ab17339654c3</td>\n",
       "      <td>gid_2018_07_11_slnmlb_chamlb_1</td>\n",
       "      <td>SL</td>\n",
       "    </tr>\n",
       "    <tr>\n",
       "      <td>1</td>\n",
       "      <td>262972</td>\n",
       "      <td>2018</td>\n",
       "      <td>594577</td>\n",
       "      <td>138</td>\n",
       "      <td>STL</td>\n",
       "      <td>3.10</td>\n",
       "      <td>2.0</td>\n",
       "      <td>0.0</td>\n",
       "      <td>R</td>\n",
       "      <td>660162</td>\n",
       "      <td>...</td>\n",
       "      <td>False</td>\n",
       "      <td>False</td>\n",
       "      <td>0</td>\n",
       "      <td>0</td>\n",
       "      <td>18ebcf8e-a95e-440e-afba-0a8109cc8190</td>\n",
       "      <td>e4c0158e-2211-43ac-9fcd-1a2291990694</td>\n",
       "      <td>bcdb17e8-0729-44f1-bee4-32d548d269d9</td>\n",
       "      <td>3a7990d9-3b12-4b2c-b08d-ab17339654c3</td>\n",
       "      <td>gid_2018_07_11_slnmlb_chamlb_1</td>\n",
       "      <td>FF</td>\n",
       "    </tr>\n",
       "    <tr>\n",
       "      <td>2</td>\n",
       "      <td>262973</td>\n",
       "      <td>2018</td>\n",
       "      <td>502522</td>\n",
       "      <td>120</td>\n",
       "      <td>WSH</td>\n",
       "      <td>1.42</td>\n",
       "      <td>4.0</td>\n",
       "      <td>0.0</td>\n",
       "      <td>R</td>\n",
       "      <td>607054</td>\n",
       "      <td>...</td>\n",
       "      <td>False</td>\n",
       "      <td>False</td>\n",
       "      <td>0</td>\n",
       "      <td>0</td>\n",
       "      <td>ba1d90b7-1b70-49a7-8ac4-5e3cf2a3aa54</td>\n",
       "      <td>c0dec6a9-c0a9-4ec9-8f72-8e8367080d2c</td>\n",
       "      <td>b3c85d00-dbe8-4b5e-9596-fa855c99fc4f</td>\n",
       "      <td>3a7a53cb-95ba-4542-b4ff-0a304ada8e01</td>\n",
       "      <td>gid_2018_06_19_balmlb_wasmlb_1</td>\n",
       "      <td>FF</td>\n",
       "    </tr>\n",
       "    <tr>\n",
       "      <td>3</td>\n",
       "      <td>262974</td>\n",
       "      <td>2018</td>\n",
       "      <td>571945</td>\n",
       "      <td>138</td>\n",
       "      <td>STL</td>\n",
       "      <td>2.80</td>\n",
       "      <td>13.0</td>\n",
       "      <td>3.0</td>\n",
       "      <td>R</td>\n",
       "      <td>467827</td>\n",
       "      <td>...</td>\n",
       "      <td>False</td>\n",
       "      <td>False</td>\n",
       "      <td>0</td>\n",
       "      <td>0</td>\n",
       "      <td>55360ecc-ca53-4f4f-ac6e-9e1870bb63ae</td>\n",
       "      <td>5520a3ea-0c68-44c5-9854-2f6eb523d83c</td>\n",
       "      <td>84f20b62-fde1-468d-8951-ae7f598f1f94</td>\n",
       "      <td>3a7aa9d8-1de0-4c5a-a9e6-882f30d1e727</td>\n",
       "      <td>gid_2018_08_24_slnmlb_colmlb_1</td>\n",
       "      <td>FT</td>\n",
       "    </tr>\n",
       "    <tr>\n",
       "      <td>4</td>\n",
       "      <td>262975</td>\n",
       "      <td>2018</td>\n",
       "      <td>571945</td>\n",
       "      <td>138</td>\n",
       "      <td>STL</td>\n",
       "      <td>2.80</td>\n",
       "      <td>13.0</td>\n",
       "      <td>3.0</td>\n",
       "      <td>R</td>\n",
       "      <td>467827</td>\n",
       "      <td>...</td>\n",
       "      <td>False</td>\n",
       "      <td>False</td>\n",
       "      <td>0</td>\n",
       "      <td>0</td>\n",
       "      <td>55360ecc-ca53-4f4f-ac6e-9e1870bb63ae</td>\n",
       "      <td>5520a3ea-0c68-44c5-9854-2f6eb523d83c</td>\n",
       "      <td>84f20b62-fde1-468d-8951-ae7f598f1f94</td>\n",
       "      <td>3a7aa9d8-1de0-4c5a-a9e6-882f30d1e727</td>\n",
       "      <td>gid_2018_08_24_slnmlb_colmlb_1</td>\n",
       "      <td>SL</td>\n",
       "    </tr>\n",
       "  </tbody>\n",
       "</table>\n",
       "<p>5 rows × 72 columns</p>\n",
       "</div>"
      ],
      "text/plain": [
       "   pitch_data_id  season  pitcher_id team_id team_abbrev   era  wins  losses  \\\n",
       "0         262971    2018      594577     138         STL  3.10   2.0     0.0   \n",
       "1         262972    2018      594577     138         STL  3.10   2.0     0.0   \n",
       "2         262973    2018      502522     120         WSH  1.42   4.0     0.0   \n",
       "3         262974    2018      571945     138         STL  2.80  13.0     3.0   \n",
       "4         262975    2018      571945     138         STL  2.80  13.0     3.0   \n",
       "\n",
       "  throws   b1_id  ... is_runner_on_second is_runner_on_third  \\\n",
       "0      R  660162  ...               False              False   \n",
       "1      R  660162  ...               False              False   \n",
       "2      R  607054  ...               False              False   \n",
       "3      R  467827  ...               False              False   \n",
       "4      R  467827  ...               False              False   \n",
       "\n",
       "   runs_pitcher_team runs_batter_team                               game_id  \\\n",
       "0                  0                0  18ebcf8e-a95e-440e-afba-0a8109cc8190   \n",
       "1                  0                0  18ebcf8e-a95e-440e-afba-0a8109cc8190   \n",
       "2                  0                0  ba1d90b7-1b70-49a7-8ac4-5e3cf2a3aa54   \n",
       "3                  0                0  55360ecc-ca53-4f4f-ac6e-9e1870bb63ae   \n",
       "4                  0                0  55360ecc-ca53-4f4f-ac6e-9e1870bb63ae   \n",
       "\n",
       "                              inning_id                        half_inning_id  \\\n",
       "0  e4c0158e-2211-43ac-9fcd-1a2291990694  bcdb17e8-0729-44f1-bee4-32d548d269d9   \n",
       "1  e4c0158e-2211-43ac-9fcd-1a2291990694  bcdb17e8-0729-44f1-bee4-32d548d269d9   \n",
       "2  c0dec6a9-c0a9-4ec9-8f72-8e8367080d2c  b3c85d00-dbe8-4b5e-9596-fa855c99fc4f   \n",
       "3  5520a3ea-0c68-44c5-9854-2f6eb523d83c  84f20b62-fde1-468d-8951-ae7f598f1f94   \n",
       "4  5520a3ea-0c68-44c5-9854-2f6eb523d83c  84f20b62-fde1-468d-8951-ae7f598f1f94   \n",
       "\n",
       "                              at_bat_id                             gid  \\\n",
       "0  3a7990d9-3b12-4b2c-b08d-ab17339654c3  gid_2018_07_11_slnmlb_chamlb_1   \n",
       "1  3a7990d9-3b12-4b2c-b08d-ab17339654c3  gid_2018_07_11_slnmlb_chamlb_1   \n",
       "2  3a7a53cb-95ba-4542-b4ff-0a304ada8e01  gid_2018_06_19_balmlb_wasmlb_1   \n",
       "3  3a7aa9d8-1de0-4c5a-a9e6-882f30d1e727  gid_2018_08_24_slnmlb_colmlb_1   \n",
       "4  3a7aa9d8-1de0-4c5a-a9e6-882f30d1e727  gid_2018_08_24_slnmlb_colmlb_1   \n",
       "\n",
       "  p1_pitch_type  \n",
       "0            SL  \n",
       "1            FF  \n",
       "2            FF  \n",
       "3            FT  \n",
       "4            SL  \n",
       "\n",
       "[5 rows x 72 columns]"
      ]
     },
     "execution_count": 2,
     "metadata": {},
     "output_type": "execute_result"
    }
   ],
   "source": [
    "# get the data\n",
    "pitch_data = utils.get_pitch_data()\n",
    "pitch_data.head()"
   ]
  },
  {
   "cell_type": "code",
   "execution_count": 3,
   "metadata": {},
   "outputs": [
    {
     "name": "stdout",
     "output_type": "stream",
     "text": [
      "<class 'pandas.core.frame.DataFrame'>\n",
      "RangeIndex: 10000 entries, 0 to 9999\n",
      "Data columns (total 72 columns):\n",
      "pitch_data_id          10000 non-null int64\n",
      "season                 10000 non-null int64\n",
      "pitcher_id             10000 non-null int64\n",
      "team_id                10000 non-null object\n",
      "team_abbrev            10000 non-null object\n",
      "era                    10000 non-null float64\n",
      "wins                   9981 non-null float64\n",
      "losses                 9981 non-null float64\n",
      "throws                 10000 non-null object\n",
      "b1_id                  10000 non-null int64\n",
      "b1_team_id             10000 non-null object\n",
      "b1_stand               10000 non-null object\n",
      "b1_height              10000 non-null int64\n",
      "b1_bats                10000 non-null object\n",
      "b1_avg                 10000 non-null float64\n",
      "b1_hr                  10000 non-null int64\n",
      "b1_rbi                 10000 non-null int64\n",
      "b1_bat_order           9504 non-null float64\n",
      "b1_game_position       9504 non-null object\n",
      "p1_pitch_id            10000 non-null object\n",
      "p0_pitch_id            9689 non-null object\n",
      "p1_pitch_seqno         10000 non-null int64\n",
      "p0_pitch_seqno         9689 non-null float64\n",
      "p0_inning              9689 non-null float64\n",
      "result_type            9689 non-null object\n",
      "result_type_simple     9689 non-null object\n",
      "x                      9688 non-null float64\n",
      "y                      9688 non-null float64\n",
      "start_speed            9608 non-null float64\n",
      "end_speed              9608 non-null float64\n",
      "sz_top                 9681 non-null float64\n",
      "sz_bot                 9681 non-null float64\n",
      "pfx_x                  9608 non-null float64\n",
      "pfx_z                  9608 non-null float64\n",
      "px                     9608 non-null float64\n",
      "pz                     9608 non-null float64\n",
      "x0                     9608 non-null float64\n",
      "y0                     9608 non-null float64\n",
      "z0                     9608 non-null float64\n",
      "vx0                    9608 non-null float64\n",
      "vy0                    9608 non-null float64\n",
      "vz0                    9608 non-null float64\n",
      "ax                     9608 non-null float64\n",
      "ay                     9608 non-null float64\n",
      "az                     9608 non-null float64\n",
      "break_y                9608 non-null float64\n",
      "break_angle            9608 non-null float64\n",
      "break_length           9608 non-null float64\n",
      "p0_pitch_type          9608 non-null object\n",
      "type_confidence        9362 non-null float64\n",
      "zone                   9362 non-null float64\n",
      "nasty                  9362 non-null float64\n",
      "spin_dir               9362 non-null float64\n",
      "spin_rate              9362 non-null float64\n",
      "outcome                9689 non-null float64\n",
      "inning                 10000 non-null int64\n",
      "pitch_count_atbat      10000 non-null int64\n",
      "pitch_count_team       10000 non-null int64\n",
      "balls                  10000 non-null int64\n",
      "strikes                10000 non-null int64\n",
      "outs                   10000 non-null int64\n",
      "is_runner_on_first     10000 non-null bool\n",
      "is_runner_on_second    10000 non-null bool\n",
      "is_runner_on_third     10000 non-null bool\n",
      "runs_pitcher_team      10000 non-null int64\n",
      "runs_batter_team       10000 non-null int64\n",
      "game_id                10000 non-null object\n",
      "inning_id              10000 non-null object\n",
      "half_inning_id         10000 non-null object\n",
      "at_bat_id              10000 non-null object\n",
      "gid                    10000 non-null object\n",
      "p1_pitch_type          9923 non-null object\n",
      "dtypes: bool(3), float64(35), int64(16), object(18)\n",
      "memory usage: 5.3+ MB\n"
     ]
    }
   ],
   "source": [
    "pitch_data.info()"
   ]
  },
  {
   "cell_type": "code",
   "execution_count": 4,
   "metadata": {},
   "outputs": [],
   "source": [
    "cols_to_drop=['p1_pitch_id','p0_pitch_id','result_type','pitch_data_id','season','team_id','game_id','inning_id','half_inning_id','at_bat_id','gid']\n",
    "# drop unneeded cols\n",
    "pitch_data = utils.drop_columns_by_list(pitch_data,cols_to_drop)\n",
    "# drop pickoff attempts\n",
    "pitch_data = utils.drop_pickoffs(pitch_data)\n",
    "# set category of cols\n",
    "pitch_data = utils.set_dtypes(pitch_data)\n",
    "# drop nans\n",
    "pitch_data = pitch_data.dropna()\n",
    "all_data = pitch_data"
   ]
  },
  {
   "cell_type": "code",
   "execution_count": 5,
   "metadata": {},
   "outputs": [
    {
     "name": "stdout",
     "output_type": "stream",
     "text": [
      "<class 'pandas.core.frame.DataFrame'>\n",
      "Int64Index: 8872 entries, 0 to 9999\n",
      "Data columns (total 61 columns):\n",
      "pitcher_id             8872 non-null object\n",
      "team_abbrev            8872 non-null object\n",
      "era                    8872 non-null float64\n",
      "wins                   8872 non-null float64\n",
      "losses                 8872 non-null float64\n",
      "throws                 8872 non-null object\n",
      "b1_id                  8872 non-null object\n",
      "b1_team_id             8872 non-null object\n",
      "b1_stand               8872 non-null int64\n",
      "b1_height              8872 non-null int64\n",
      "b1_bats                8872 non-null object\n",
      "b1_avg                 8872 non-null float64\n",
      "b1_hr                  8872 non-null int64\n",
      "b1_rbi                 8872 non-null int64\n",
      "b1_bat_order           8872 non-null float64\n",
      "b1_game_position       8872 non-null object\n",
      "p1_pitch_seqno         8872 non-null int64\n",
      "p0_pitch_seqno         8872 non-null float64\n",
      "p0_inning              8872 non-null float64\n",
      "result_type_simple     8872 non-null object\n",
      "x                      8872 non-null float64\n",
      "y                      8872 non-null float64\n",
      "start_speed            8872 non-null float64\n",
      "end_speed              8872 non-null float64\n",
      "sz_top                 8872 non-null float64\n",
      "sz_bot                 8872 non-null float64\n",
      "pfx_x                  8872 non-null float64\n",
      "pfx_z                  8872 non-null float64\n",
      "px                     8872 non-null float64\n",
      "pz                     8872 non-null float64\n",
      "x0                     8872 non-null float64\n",
      "y0                     8872 non-null float64\n",
      "z0                     8872 non-null float64\n",
      "vx0                    8872 non-null float64\n",
      "vy0                    8872 non-null float64\n",
      "vz0                    8872 non-null float64\n",
      "ax                     8872 non-null float64\n",
      "ay                     8872 non-null float64\n",
      "az                     8872 non-null float64\n",
      "break_y                8872 non-null float64\n",
      "break_angle            8872 non-null float64\n",
      "break_length           8872 non-null float64\n",
      "p0_pitch_type          8872 non-null object\n",
      "type_confidence        8872 non-null float64\n",
      "zone                   8872 non-null float64\n",
      "nasty                  8872 non-null float64\n",
      "spin_dir               8872 non-null float64\n",
      "spin_rate              8872 non-null float64\n",
      "outcome                8872 non-null float64\n",
      "inning                 8872 non-null object\n",
      "pitch_count_atbat      8872 non-null int64\n",
      "pitch_count_team       8872 non-null int64\n",
      "balls                  8872 non-null int64\n",
      "strikes                8872 non-null int64\n",
      "outs                   8872 non-null int64\n",
      "is_runner_on_first     8872 non-null int64\n",
      "is_runner_on_second    8872 non-null int64\n",
      "is_runner_on_third     8872 non-null int64\n",
      "runs_pitcher_team      8872 non-null int64\n",
      "runs_batter_team       8872 non-null int64\n",
      "p1_pitch_type          8872 non-null object\n",
      "dtypes: float64(35), int64(15), object(11)\n",
      "memory usage: 4.2+ MB\n"
     ]
    }
   ],
   "source": [
    "pitch_data.info()"
   ]
  },
  {
   "cell_type": "code",
   "execution_count": 6,
   "metadata": {},
   "outputs": [
    {
     "name": "stdout",
     "output_type": "stream",
     "text": [
      "<class 'pandas.core.frame.DataFrame'>\n",
      "Int64Index: 8872 entries, 0 to 9999\n",
      "Columns: 1254 entries, era to inning_15\n",
      "dtypes: float64(35), int64(15), uint8(1204)\n",
      "memory usage: 13.6 MB\n"
     ]
    }
   ],
   "source": [
    "pitch_types = pitch_data.loc[:,'p1_pitch_type']\n",
    "Y = utils.encode_pitch_types(pitch_types)\n",
    "X = pitch_data.drop('p1_pitch_type',axis=1)\n",
    "# one hot encode necessary cols\n",
    "X = utils.one_hot_encode(X)\n",
    "X.info()"
   ]
  },
  {
   "cell_type": "code",
   "execution_count": 7,
   "metadata": {},
   "outputs": [],
   "source": [
    "X_train, X_test, y_train, y_test = utils.split_dataset_into_train_and_test(X,Y)"
   ]
  },
  {
   "cell_type": "code",
   "execution_count": 8,
   "metadata": {},
   "outputs": [
    {
     "name": "stdout",
     "output_type": "stream",
     "text": [
      "<class 'pandas.core.frame.DataFrame'>\n",
      "Int64Index: 7166 entries, 6012 to 8143\n",
      "Columns: 1148 entries, era to inning_14\n",
      "dtypes: float64(35), int64(15), uint8(1098)\n",
      "memory usage: 10.3 MB\n"
     ]
    }
   ],
   "source": [
    "X_train.info()"
   ]
  },
  {
   "cell_type": "markdown",
   "metadata": {},
   "source": [
    "## Part2: Train an XGBoost multiclassifier"
   ]
  },
  {
   "cell_type": "code",
   "execution_count": 7,
   "metadata": {},
   "outputs": [],
   "source": [
    "import models.xgboost_model as xgb_model"
   ]
  },
  {
   "cell_type": "code",
   "execution_count": 8,
   "metadata": {},
   "outputs": [],
   "source": [
    "xgb_multi_class_model = xgb_model.get_multi_class_classifier_model()"
   ]
  },
  {
   "cell_type": "code",
   "execution_count": 11,
   "metadata": {},
   "outputs": [
    {
     "name": "stdout",
     "output_type": "stream",
     "text": [
      "\n",
      "Model Report\n",
      "Accuracy (Train) : 1.0\n",
      "Accuracy (Test) : 0.4447544642857143\n"
     ]
    }
   ],
   "source": [
    "xgb_model.fit_multi_class_model(model=xgb_multi_class_model,x_train=X_train,y_train=y_train,x_test=X_test,y_test=y_test,save_location='./training/xgb_multi_class.bin')"
   ]
  },
  {
   "cell_type": "markdown",
   "metadata": {},
   "source": [
    "It looks like we're overfitting. I'll remove the pitcher and batter ids"
   ]
  },
  {
   "cell_type": "code",
   "execution_count": 9,
   "metadata": {},
   "outputs": [
    {
     "name": "stdout",
     "output_type": "stream",
     "text": [
      "<class 'pandas.core.frame.DataFrame'>\n",
      "Int64Index: 8872 entries, 0 to 9999\n",
      "Columns: 155 entries, era to inning_15\n",
      "dtypes: float64(35), int64(15), uint8(105)\n",
      "memory usage: 4.3 MB\n"
     ]
    }
   ],
   "source": [
    "pitch_data = all_data\n",
    "# remove the pitch\n",
    "cols_to_drop=['pitcher_id','b1_id']\n",
    "# drop unneeded cols\n",
    "pitch_data = utils.drop_columns_by_list(pitch_data,cols_to_drop)\n",
    "X = pitch_data.drop('p1_pitch_type',axis=1)\n",
    "# one hot encode necessary cols\n",
    "X = utils.one_hot_encode(X)\n",
    "X.info()"
   ]
  },
  {
   "cell_type": "code",
   "execution_count": 10,
   "metadata": {},
   "outputs": [],
   "source": [
    "X_train, X_test, y_train, y_test = utils.split_dataset_into_train_and_test(X,Y)"
   ]
  },
  {
   "cell_type": "code",
   "execution_count": null,
   "metadata": {},
   "outputs": [],
   "source": []
  }
 ],
 "metadata": {
  "kernelspec": {
   "display_name": "Python 3",
   "language": "python",
   "name": "python3"
  },
  "language_info": {
   "codemirror_mode": {
    "name": "ipython",
    "version": 3
   },
   "file_extension": ".py",
   "mimetype": "text/x-python",
   "name": "python",
   "nbconvert_exporter": "python",
   "pygments_lexer": "ipython3",
   "version": "3.6.9"
  }
 },
 "nbformat": 4,
 "nbformat_minor": 2
}
